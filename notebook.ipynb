{
 "cells": [
  {
   "cell_type": "markdown",
   "metadata": {},
   "source": [
    "# Introduction to practical Pandas\n",
    "\n",
    "\n",
    "Welcome to this short introduction to Pandas. We will be covering the essentials on how to use Pandas for small data processing and a bit of visualisation.\n",
    "\n",
    "We obviously start with the imports. Seaborn is a library that produces nice looking graphs and which is made to work with Pandas."
   ]
  },
  {
   "cell_type": "code",
   "execution_count": 325,
   "metadata": {},
   "outputs": [],
   "source": [
    "import numpy as np\n",
    "import pandas as pd\n",
    "\n",
    "import matplotlib.pyplot as plt\n",
    "import seaborn as sns\n",
    "\n",
    "# Ignore those lines; they set properties for the data\n",
    "# visualisation library.\n",
    "sns.set_style(\"dark\")\n",
    "sns.set(rc={'figure.figsize':(10.80 * 0.95, 9.20 * 0.95)})"
   ]
  },
  {
   "cell_type": "markdown",
   "metadata": {},
   "source": [
    "## First approach - opening files, slicing, index\n",
    "\n",
    "We will work with the [Rossmann Store Dataset](https://www.kaggle.com/c/rossmann-store-sales) which contains the daily sales of about a thousand Rossmann stores in Germany, between 2013 and 2015.  \n",
    "\n",
    "Let's start using Pandas by loading the data (stored as a CSV) into a *DataFrame*. The DataFrame is the main object you will be dealing with when working with Pandas. It is pretty much a table, with rows and columns to index the data. Let's have a look.  \n",
    "For now, please ignore the *dtype* argument in the `read_csv` function. Also note that the `head` argument returns the first few rows of the DataFrame."
   ]
  },
  {
   "cell_type": "code",
   "execution_count": 326,
   "metadata": {
    "scrolled": true
   },
   "outputs": [
    {
     "data": {
      "text/html": [
       "<div>\n",
       "<style scoped>\n",
       "    .dataframe tbody tr th:only-of-type {\n",
       "        vertical-align: middle;\n",
       "    }\n",
       "\n",
       "    .dataframe tbody tr th {\n",
       "        vertical-align: top;\n",
       "    }\n",
       "\n",
       "    .dataframe thead th {\n",
       "        text-align: right;\n",
       "    }\n",
       "</style>\n",
       "<table border=\"1\" class=\"dataframe\">\n",
       "  <thead>\n",
       "    <tr style=\"text-align: right;\">\n",
       "      <th></th>\n",
       "      <th>Store</th>\n",
       "      <th>DayOfWeek</th>\n",
       "      <th>Date</th>\n",
       "      <th>Sales</th>\n",
       "      <th>Customers</th>\n",
       "      <th>Open</th>\n",
       "      <th>Promo</th>\n",
       "      <th>StateHoliday</th>\n",
       "      <th>SchoolHoliday</th>\n",
       "    </tr>\n",
       "  </thead>\n",
       "  <tbody>\n",
       "    <tr>\n",
       "      <th>0</th>\n",
       "      <td>1</td>\n",
       "      <td>5</td>\n",
       "      <td>2015-07-31</td>\n",
       "      <td>5263</td>\n",
       "      <td>555</td>\n",
       "      <td>1</td>\n",
       "      <td>1</td>\n",
       "      <td>0</td>\n",
       "      <td>1</td>\n",
       "    </tr>\n",
       "    <tr>\n",
       "      <th>1</th>\n",
       "      <td>2</td>\n",
       "      <td>5</td>\n",
       "      <td>2015-07-31</td>\n",
       "      <td>6064</td>\n",
       "      <td>625</td>\n",
       "      <td>1</td>\n",
       "      <td>1</td>\n",
       "      <td>0</td>\n",
       "      <td>1</td>\n",
       "    </tr>\n",
       "    <tr>\n",
       "      <th>2</th>\n",
       "      <td>3</td>\n",
       "      <td>5</td>\n",
       "      <td>2015-07-31</td>\n",
       "      <td>8314</td>\n",
       "      <td>821</td>\n",
       "      <td>1</td>\n",
       "      <td>1</td>\n",
       "      <td>0</td>\n",
       "      <td>1</td>\n",
       "    </tr>\n",
       "    <tr>\n",
       "      <th>3</th>\n",
       "      <td>4</td>\n",
       "      <td>5</td>\n",
       "      <td>2015-07-31</td>\n",
       "      <td>13995</td>\n",
       "      <td>1498</td>\n",
       "      <td>1</td>\n",
       "      <td>1</td>\n",
       "      <td>0</td>\n",
       "      <td>1</td>\n",
       "    </tr>\n",
       "    <tr>\n",
       "      <th>4</th>\n",
       "      <td>5</td>\n",
       "      <td>5</td>\n",
       "      <td>2015-07-31</td>\n",
       "      <td>4822</td>\n",
       "      <td>559</td>\n",
       "      <td>1</td>\n",
       "      <td>1</td>\n",
       "      <td>0</td>\n",
       "      <td>1</td>\n",
       "    </tr>\n",
       "  </tbody>\n",
       "</table>\n",
       "</div>"
      ],
      "text/plain": [
       "   Store  DayOfWeek        Date  Sales  Customers  Open  Promo StateHoliday  \\\n",
       "0      1          5  2015-07-31   5263        555     1      1            0   \n",
       "1      2          5  2015-07-31   6064        625     1      1            0   \n",
       "2      3          5  2015-07-31   8314        821     1      1            0   \n",
       "3      4          5  2015-07-31  13995       1498     1      1            0   \n",
       "4      5          5  2015-07-31   4822        559     1      1            0   \n",
       "\n",
       "   SchoolHoliday  \n",
       "0              1  \n",
       "1              1  \n",
       "2              1  \n",
       "3              1  \n",
       "4              1  "
      ]
     },
     "execution_count": 326,
     "metadata": {},
     "output_type": "execute_result"
    }
   ],
   "source": [
    "df = pd.read_csv('rossman/sales.csv', dtype={'StateHoliday': str})\n",
    "df.head()"
   ]
  },
  {
   "cell_type": "markdown",
   "metadata": {},
   "source": [
    "The first theme we will cover in this tutorial is how to get your way around the data. In other words: how do you select the data of interest? There are many ways to do so. Let's break it down piece by piece.\n",
    "\n",
    "### 1. Column selection\n",
    "\n",
    "A column usually represents a *variable* in the dataset. In this example, we can see that there are 9 columns: *Store*, *DayOfWeek*, *Customers* etc.  \n",
    "To select a column in Pandas, the most intuitive way is to use this dict-like syntax:"
   ]
  },
  {
   "cell_type": "code",
   "execution_count": 327,
   "metadata": {
    "scrolled": true
   },
   "outputs": [
    {
     "data": {
      "text/plain": [
       "0     555\n",
       "1     625\n",
       "2     821\n",
       "3    1498\n",
       "4     559\n",
       "Name: Customers, dtype: int64"
      ]
     },
     "execution_count": 327,
     "metadata": {},
     "output_type": "execute_result"
    }
   ],
   "source": [
    "# dict-like of syntax\n",
    "df['Customers'].head()"
   ]
  },
  {
   "cell_type": "markdown",
   "metadata": {},
   "source": [
    "One can also use `df.Customers` which might less pythonic at first. And you may be right, I'd say it's more *pandorable* (a term I found in the great series [Effective Pandas](https://github.com/TomAugspurger/effective-pandas). We will see the reason for this later on when we will talk about method chaining."
   ]
  },
  {
   "cell_type": "code",
   "execution_count": 328,
   "metadata": {
    "scrolled": true
   },
   "outputs": [
    {
     "data": {
      "text/plain": [
       "0     555\n",
       "1     625\n",
       "2     821\n",
       "3    1498\n",
       "4     559\n",
       "Name: Customers, dtype: int64"
      ]
     },
     "execution_count": 328,
     "metadata": {},
     "output_type": "execute_result"
    }
   ],
   "source": [
    "# Other possibility:\n",
    "df.Customers.head()"
   ]
  },
  {
   "cell_type": "markdown",
   "metadata": {},
   "source": [
    "Note that when we select a column, the output of the `df.Customers` operation is a *Series*, it's another class from Pandas which has distinct properties and functions compared to the *DataFrame* although quite similar in the syntax.  \n",
    "One can select a subset of the original DataFrame by selecting several columns. For this, we can use the dict-like syntax, as if we had many keys:"
   ]
  },
  {
   "cell_type": "code",
   "execution_count": 329,
   "metadata": {
    "scrolled": true
   },
   "outputs": [
    {
     "data": {
      "text/html": [
       "<div>\n",
       "<style scoped>\n",
       "    .dataframe tbody tr th:only-of-type {\n",
       "        vertical-align: middle;\n",
       "    }\n",
       "\n",
       "    .dataframe tbody tr th {\n",
       "        vertical-align: top;\n",
       "    }\n",
       "\n",
       "    .dataframe thead th {\n",
       "        text-align: right;\n",
       "    }\n",
       "</style>\n",
       "<table border=\"1\" class=\"dataframe\">\n",
       "  <thead>\n",
       "    <tr style=\"text-align: right;\">\n",
       "      <th></th>\n",
       "      <th>Date</th>\n",
       "      <th>Customers</th>\n",
       "    </tr>\n",
       "  </thead>\n",
       "  <tbody>\n",
       "    <tr>\n",
       "      <th>0</th>\n",
       "      <td>2015-07-31</td>\n",
       "      <td>555</td>\n",
       "    </tr>\n",
       "    <tr>\n",
       "      <th>1</th>\n",
       "      <td>2015-07-31</td>\n",
       "      <td>625</td>\n",
       "    </tr>\n",
       "    <tr>\n",
       "      <th>2</th>\n",
       "      <td>2015-07-31</td>\n",
       "      <td>821</td>\n",
       "    </tr>\n",
       "    <tr>\n",
       "      <th>3</th>\n",
       "      <td>2015-07-31</td>\n",
       "      <td>1498</td>\n",
       "    </tr>\n",
       "    <tr>\n",
       "      <th>4</th>\n",
       "      <td>2015-07-31</td>\n",
       "      <td>559</td>\n",
       "    </tr>\n",
       "  </tbody>\n",
       "</table>\n",
       "</div>"
      ],
      "text/plain": [
       "         Date  Customers\n",
       "0  2015-07-31        555\n",
       "1  2015-07-31        625\n",
       "2  2015-07-31        821\n",
       "3  2015-07-31       1498\n",
       "4  2015-07-31        559"
      ]
     },
     "execution_count": 329,
     "metadata": {},
     "output_type": "execute_result"
    }
   ],
   "source": [
    "df[['Date', 'Customers']].head()"
   ]
  },
  {
   "cell_type": "markdown",
   "metadata": {},
   "source": [
    "The output is a DataFrame itself; but this time with only 2 columns."
   ]
  },
  {
   "cell_type": "markdown",
   "metadata": {},
   "source": [
    "### 2. Selecting rows - indexes\n",
    "\n",
    "So far so good. Now, row selection is slightly more tedious. It's not complicated per se but that's where most of the confusion might come from if you are learning Pandas.  \n",
    "You might think that a DataFrame is a list of rows and therefore we could use a list-like syntax to obtain, say, the 4th row:  \n",
    "\n",
    "```df[4]```\n",
    "\n",
    "But this would result in a `KeyError`."
   ]
  },
  {
   "cell_type": "markdown",
   "metadata": {},
   "source": [
    "Well, you are right to some extent. But it would be extremely limiting to think of a DataFrame as a list of rows. For this reason, a syntax such as `df[4]` doesn't work. But do we care about the ordering of the rows at all? Well, not necessarily.  \n",
    "Imagine that you are given a dataset of transactions. For each row, you get 5 columns: the transaction ID, the item bought (or the item ID), the buyer (or buyer ID), the amount spent and the time when the transaction occured. Most of your work is based on transaction IDs. In other words, you are often given a transaction ID and you need to verify who the buyer was or what the amount spent was.  \n",
    "Do we really care if the given transaction is recorded at the 10th or 186th row? No. Actually what really matters is the transaction ID. It is litteraly a proper key to identify the transaction.  \n",
    "Pandas integrates natively such concept as an *index*. When the dataframe is displayed in the notebook, the index is shown as a special column on the left-hand side.\n",
    "\n",
    "Let's see an example. We are going to load the same dataframe that we were using so far; with the exception that I pre-formatted it such that the *index* corresponds to a specific day (which is the `Date` column in the original dataframe)."
   ]
  },
  {
   "cell_type": "code",
   "execution_count": 331,
   "metadata": {
    "scrolled": true
   },
   "outputs": [
    {
     "data": {
      "text/html": [
       "<div>\n",
       "<style scoped>\n",
       "    .dataframe tbody tr th:only-of-type {\n",
       "        vertical-align: middle;\n",
       "    }\n",
       "\n",
       "    .dataframe tbody tr th {\n",
       "        vertical-align: top;\n",
       "    }\n",
       "\n",
       "    .dataframe thead th {\n",
       "        text-align: right;\n",
       "    }\n",
       "</style>\n",
       "<table border=\"1\" class=\"dataframe\">\n",
       "  <thead>\n",
       "    <tr style=\"text-align: right;\">\n",
       "      <th></th>\n",
       "      <th>Store</th>\n",
       "      <th>DayOfWeek</th>\n",
       "      <th>Sales</th>\n",
       "      <th>Customers</th>\n",
       "      <th>Open</th>\n",
       "      <th>Promo</th>\n",
       "      <th>StateHoliday</th>\n",
       "      <th>SchoolHoliday</th>\n",
       "    </tr>\n",
       "    <tr>\n",
       "      <th>Date</th>\n",
       "      <th></th>\n",
       "      <th></th>\n",
       "      <th></th>\n",
       "      <th></th>\n",
       "      <th></th>\n",
       "      <th></th>\n",
       "      <th></th>\n",
       "      <th></th>\n",
       "    </tr>\n",
       "  </thead>\n",
       "  <tbody>\n",
       "    <tr>\n",
       "      <th>2015-07-31</th>\n",
       "      <td>1</td>\n",
       "      <td>5</td>\n",
       "      <td>5263</td>\n",
       "      <td>555</td>\n",
       "      <td>1</td>\n",
       "      <td>1</td>\n",
       "      <td>0</td>\n",
       "      <td>1</td>\n",
       "    </tr>\n",
       "    <tr>\n",
       "      <th>2015-07-31</th>\n",
       "      <td>2</td>\n",
       "      <td>5</td>\n",
       "      <td>6064</td>\n",
       "      <td>625</td>\n",
       "      <td>1</td>\n",
       "      <td>1</td>\n",
       "      <td>0</td>\n",
       "      <td>1</td>\n",
       "    </tr>\n",
       "    <tr>\n",
       "      <th>2015-07-31</th>\n",
       "      <td>3</td>\n",
       "      <td>5</td>\n",
       "      <td>8314</td>\n",
       "      <td>821</td>\n",
       "      <td>1</td>\n",
       "      <td>1</td>\n",
       "      <td>0</td>\n",
       "      <td>1</td>\n",
       "    </tr>\n",
       "    <tr>\n",
       "      <th>2015-07-31</th>\n",
       "      <td>4</td>\n",
       "      <td>5</td>\n",
       "      <td>13995</td>\n",
       "      <td>1498</td>\n",
       "      <td>1</td>\n",
       "      <td>1</td>\n",
       "      <td>0</td>\n",
       "      <td>1</td>\n",
       "    </tr>\n",
       "    <tr>\n",
       "      <th>2015-07-31</th>\n",
       "      <td>5</td>\n",
       "      <td>5</td>\n",
       "      <td>4822</td>\n",
       "      <td>559</td>\n",
       "      <td>1</td>\n",
       "      <td>1</td>\n",
       "      <td>0</td>\n",
       "      <td>1</td>\n",
       "    </tr>\n",
       "  </tbody>\n",
       "</table>\n",
       "</div>"
      ],
      "text/plain": [
       "            Store  DayOfWeek  Sales  Customers  Open  Promo StateHoliday  \\\n",
       "Date                                                                       \n",
       "2015-07-31      1          5   5263        555     1      1            0   \n",
       "2015-07-31      2          5   6064        625     1      1            0   \n",
       "2015-07-31      3          5   8314        821     1      1            0   \n",
       "2015-07-31      4          5  13995       1498     1      1            0   \n",
       "2015-07-31      5          5   4822        559     1      1            0   \n",
       "\n",
       "            SchoolHoliday  \n",
       "Date                       \n",
       "2015-07-31              1  \n",
       "2015-07-31              1  \n",
       "2015-07-31              1  \n",
       "2015-07-31              1  \n",
       "2015-07-31              1  "
      ]
     },
     "execution_count": 331,
     "metadata": {},
     "output_type": "execute_result"
    }
   ],
   "source": [
    "other_df = pd.read_pickle('rossman/sales_date_indexed.pkl')\n",
    "other_df.head()"
   ]
  },
  {
   "cell_type": "markdown",
   "metadata": {},
   "source": [
    "Now, let's say we want to know what happened on the 14th of November 2014 (4 years ago!). We can use the `.loc` syntax. `.loc` is used to obtain rows based on the index. It should be the primary way to obtain a or many specific rows. "
   ]
  },
  {
   "cell_type": "code",
   "execution_count": 332,
   "metadata": {
    "scrolled": true
   },
   "outputs": [
    {
     "data": {
      "text/html": [
       "<div>\n",
       "<style scoped>\n",
       "    .dataframe tbody tr th:only-of-type {\n",
       "        vertical-align: middle;\n",
       "    }\n",
       "\n",
       "    .dataframe tbody tr th {\n",
       "        vertical-align: top;\n",
       "    }\n",
       "\n",
       "    .dataframe thead th {\n",
       "        text-align: right;\n",
       "    }\n",
       "</style>\n",
       "<table border=\"1\" class=\"dataframe\">\n",
       "  <thead>\n",
       "    <tr style=\"text-align: right;\">\n",
       "      <th></th>\n",
       "      <th>Store</th>\n",
       "      <th>DayOfWeek</th>\n",
       "      <th>Sales</th>\n",
       "      <th>Customers</th>\n",
       "      <th>Open</th>\n",
       "      <th>Promo</th>\n",
       "      <th>StateHoliday</th>\n",
       "      <th>SchoolHoliday</th>\n",
       "    </tr>\n",
       "    <tr>\n",
       "      <th>Date</th>\n",
       "      <th></th>\n",
       "      <th></th>\n",
       "      <th></th>\n",
       "      <th></th>\n",
       "      <th></th>\n",
       "      <th></th>\n",
       "      <th></th>\n",
       "      <th></th>\n",
       "    </tr>\n",
       "  </thead>\n",
       "  <tbody>\n",
       "    <tr>\n",
       "      <th>2014-11-14</th>\n",
       "      <td>1</td>\n",
       "      <td>5</td>\n",
       "      <td>5334</td>\n",
       "      <td>603</td>\n",
       "      <td>1</td>\n",
       "      <td>1</td>\n",
       "      <td>0</td>\n",
       "      <td>0</td>\n",
       "    </tr>\n",
       "    <tr>\n",
       "      <th>2014-11-14</th>\n",
       "      <td>2</td>\n",
       "      <td>5</td>\n",
       "      <td>4655</td>\n",
       "      <td>560</td>\n",
       "      <td>1</td>\n",
       "      <td>1</td>\n",
       "      <td>0</td>\n",
       "      <td>0</td>\n",
       "    </tr>\n",
       "    <tr>\n",
       "      <th>2014-11-14</th>\n",
       "      <td>3</td>\n",
       "      <td>5</td>\n",
       "      <td>7836</td>\n",
       "      <td>778</td>\n",
       "      <td>1</td>\n",
       "      <td>1</td>\n",
       "      <td>0</td>\n",
       "      <td>0</td>\n",
       "    </tr>\n",
       "    <tr>\n",
       "      <th>2014-11-14</th>\n",
       "      <td>4</td>\n",
       "      <td>5</td>\n",
       "      <td>9790</td>\n",
       "      <td>1337</td>\n",
       "      <td>1</td>\n",
       "      <td>1</td>\n",
       "      <td>0</td>\n",
       "      <td>0</td>\n",
       "    </tr>\n",
       "    <tr>\n",
       "      <th>2014-11-14</th>\n",
       "      <td>5</td>\n",
       "      <td>5</td>\n",
       "      <td>5199</td>\n",
       "      <td>568</td>\n",
       "      <td>1</td>\n",
       "      <td>1</td>\n",
       "      <td>0</td>\n",
       "      <td>0</td>\n",
       "    </tr>\n",
       "  </tbody>\n",
       "</table>\n",
       "</div>"
      ],
      "text/plain": [
       "            Store  DayOfWeek  Sales  Customers  Open  Promo StateHoliday  \\\n",
       "Date                                                                       \n",
       "2014-11-14      1          5   5334        603     1      1            0   \n",
       "2014-11-14      2          5   4655        560     1      1            0   \n",
       "2014-11-14      3          5   7836        778     1      1            0   \n",
       "2014-11-14      4          5   9790       1337     1      1            0   \n",
       "2014-11-14      5          5   5199        568     1      1            0   \n",
       "\n",
       "            SchoolHoliday  \n",
       "Date                       \n",
       "2014-11-14              0  \n",
       "2014-11-14              0  \n",
       "2014-11-14              0  \n",
       "2014-11-14              0  \n",
       "2014-11-14              0  "
      ]
     },
     "execution_count": 332,
     "metadata": {},
     "output_type": "execute_result"
    }
   ],
   "source": [
    "other_df.loc['2014-11-14'].head()"
   ]
  },
  {
   "cell_type": "markdown",
   "metadata": {},
   "source": [
    "Interestingly, observe that a single index value (here: `'2014-11-14'`) can output several rows. This is not necessarily a desirable property. It all depends on what you wish to obtain with the data. As we will see, Pandas makes it easy to re-order and re-arrange the rows and columns in such a way that the dataframe gives a good representation of your problem.  \n",
    "In this example, if we were to predict future values of the 'Sales' variable, a more desirable formatting of the dataframe would be based on a `(Store, Date)` pair. Pandas can actually handle this very well using multiindices but we won't cover this in this tutorial.   \n",
    "Formatting a dataframe to fit a certain purpose is a dedicated task by itself. For more information, you can read [Tidy Data](http://vita.had.co.nz/papers/tidy-data.pdf).   \n",
    "\n",
    "Now you might say: what if I'm genuinely interested in the 3rd row? Then you can use the `.iloc` syntax. This one is completely dissociated from the index of the DataFrame."
   ]
  },
  {
   "cell_type": "code",
   "execution_count": 333,
   "metadata": {
    "scrolled": false
   },
   "outputs": [
    {
     "data": {
      "text/plain": [
       "Store                4\n",
       "DayOfWeek            5\n",
       "Sales            13995\n",
       "Customers         1498\n",
       "Open                 1\n",
       "Promo                1\n",
       "StateHoliday         0\n",
       "SchoolHoliday        1\n",
       "Name: 2015-07-31, dtype: object"
      ]
     },
     "execution_count": 333,
     "metadata": {},
     "output_type": "execute_result"
    }
   ],
   "source": [
    "other_df.iloc[3]"
   ]
  },
  {
   "cell_type": "markdown",
   "metadata": {},
   "source": [
    "Notice that we obtained a single row which index is *2015-07-31*.   \n",
    "All in all, I strongly encourage the use of the `.loc` syntax, paired with a clever choice of index. Among the benefits:  \n",
    "- `.loc` will give the expected output even if the dataframe has been shuffled.\n",
    "- Merging external sources of data will be easier.\n",
    "- It supports boolean queries.\n",
    "\n",
    "## Boolean queries\n",
    "\n",
    "In all of what we have done so far, we knew exactly what we wanted. Be it a specific date, a specific column or a specific row. Let's introduce *conditions*. What if I want the rows that correspond to a Friday?  \n",
    "When a column is used with boolean operators (which return True or False), the result of the operation is a column of type `bool`:"
   ]
  },
  {
   "cell_type": "code",
   "execution_count": 334,
   "metadata": {
    "scrolled": false
   },
   "outputs": [
    {
     "data": {
      "text/plain": [
       "0    True\n",
       "1    True\n",
       "2    True\n",
       "3    True\n",
       "4    True\n",
       "Name: DayOfWeek, dtype: bool"
      ]
     },
     "execution_count": 334,
     "metadata": {},
     "output_type": "execute_result"
    }
   ],
   "source": [
    "(df.DayOfWeek == 5).head()"
   ]
  },
  {
   "cell_type": "markdown",
   "metadata": {},
   "source": [
    "Observe that the index of this column corresponds to the index of the original dataframe. In this case, since we didn't define a specific index for `df`, it is by default just a list of integers. In any case, the result of this operation is a column where the rows equal `True` when DayOfWeek corresponds to a Friday and `False` otherwise. In other words, this column gives **for each index, if the corresponding row is a Friday or not**.  \n",
    "But since the index is a row-identifier for a dataframe, we can use the previous result to select which row we want to preserve:"
   ]
  },
  {
   "cell_type": "code",
   "execution_count": 335,
   "metadata": {
    "scrolled": true
   },
   "outputs": [
    {
     "data": {
      "text/html": [
       "<div>\n",
       "<style scoped>\n",
       "    .dataframe tbody tr th:only-of-type {\n",
       "        vertical-align: middle;\n",
       "    }\n",
       "\n",
       "    .dataframe tbody tr th {\n",
       "        vertical-align: top;\n",
       "    }\n",
       "\n",
       "    .dataframe thead th {\n",
       "        text-align: right;\n",
       "    }\n",
       "</style>\n",
       "<table border=\"1\" class=\"dataframe\">\n",
       "  <thead>\n",
       "    <tr style=\"text-align: right;\">\n",
       "      <th></th>\n",
       "      <th>Store</th>\n",
       "      <th>DayOfWeek</th>\n",
       "      <th>Date</th>\n",
       "      <th>Sales</th>\n",
       "      <th>Customers</th>\n",
       "      <th>Open</th>\n",
       "      <th>Promo</th>\n",
       "      <th>StateHoliday</th>\n",
       "      <th>SchoolHoliday</th>\n",
       "    </tr>\n",
       "  </thead>\n",
       "  <tbody>\n",
       "    <tr>\n",
       "      <th>0</th>\n",
       "      <td>1</td>\n",
       "      <td>5</td>\n",
       "      <td>2015-07-31</td>\n",
       "      <td>5263</td>\n",
       "      <td>555</td>\n",
       "      <td>1</td>\n",
       "      <td>1</td>\n",
       "      <td>0</td>\n",
       "      <td>1</td>\n",
       "    </tr>\n",
       "    <tr>\n",
       "      <th>1</th>\n",
       "      <td>2</td>\n",
       "      <td>5</td>\n",
       "      <td>2015-07-31</td>\n",
       "      <td>6064</td>\n",
       "      <td>625</td>\n",
       "      <td>1</td>\n",
       "      <td>1</td>\n",
       "      <td>0</td>\n",
       "      <td>1</td>\n",
       "    </tr>\n",
       "    <tr>\n",
       "      <th>2</th>\n",
       "      <td>3</td>\n",
       "      <td>5</td>\n",
       "      <td>2015-07-31</td>\n",
       "      <td>8314</td>\n",
       "      <td>821</td>\n",
       "      <td>1</td>\n",
       "      <td>1</td>\n",
       "      <td>0</td>\n",
       "      <td>1</td>\n",
       "    </tr>\n",
       "    <tr>\n",
       "      <th>3</th>\n",
       "      <td>4</td>\n",
       "      <td>5</td>\n",
       "      <td>2015-07-31</td>\n",
       "      <td>13995</td>\n",
       "      <td>1498</td>\n",
       "      <td>1</td>\n",
       "      <td>1</td>\n",
       "      <td>0</td>\n",
       "      <td>1</td>\n",
       "    </tr>\n",
       "    <tr>\n",
       "      <th>4</th>\n",
       "      <td>5</td>\n",
       "      <td>5</td>\n",
       "      <td>2015-07-31</td>\n",
       "      <td>4822</td>\n",
       "      <td>559</td>\n",
       "      <td>1</td>\n",
       "      <td>1</td>\n",
       "      <td>0</td>\n",
       "      <td>1</td>\n",
       "    </tr>\n",
       "  </tbody>\n",
       "</table>\n",
       "</div>"
      ],
      "text/plain": [
       "   Store  DayOfWeek        Date  Sales  Customers  Open  Promo StateHoliday  \\\n",
       "0      1          5  2015-07-31   5263        555     1      1            0   \n",
       "1      2          5  2015-07-31   6064        625     1      1            0   \n",
       "2      3          5  2015-07-31   8314        821     1      1            0   \n",
       "3      4          5  2015-07-31  13995       1498     1      1            0   \n",
       "4      5          5  2015-07-31   4822        559     1      1            0   \n",
       "\n",
       "   SchoolHoliday  \n",
       "0              1  \n",
       "1              1  \n",
       "2              1  \n",
       "3              1  \n",
       "4              1  "
      ]
     },
     "execution_count": 335,
     "metadata": {},
     "output_type": "execute_result"
    }
   ],
   "source": [
    "df.loc[df.DayOfWeek == 5].head()"
   ]
  },
  {
   "cell_type": "markdown",
   "metadata": {},
   "source": [
    "Observe that we used `.loc` in conjonction with a boolean column **which index was shared with `df`**. In this process, `.loc` discards the rows which have a boolean value of False. We are then left which a subset of the original dataframes, in which every row corresponds to a Friday.\n",
    "\n",
    "Obviously, we can combine several conditions. For instance, all the rows which correspond to a Friday with more than $10,000 in sales. Note the somewhat cumbersome syntax:  \n",
    "- you do need a set of parenthesis around each condition\n",
    "- you cannot use the usual `and`, `or` and `not` operators from Python. Instead, use `&`, `|` and `!` respectively (as done in other programming languages)."
   ]
  },
  {
   "cell_type": "code",
   "execution_count": 336,
   "metadata": {
    "scrolled": false
   },
   "outputs": [
    {
     "data": {
      "text/html": [
       "<div>\n",
       "<style scoped>\n",
       "    .dataframe tbody tr th:only-of-type {\n",
       "        vertical-align: middle;\n",
       "    }\n",
       "\n",
       "    .dataframe tbody tr th {\n",
       "        vertical-align: top;\n",
       "    }\n",
       "\n",
       "    .dataframe thead th {\n",
       "        text-align: right;\n",
       "    }\n",
       "</style>\n",
       "<table border=\"1\" class=\"dataframe\">\n",
       "  <thead>\n",
       "    <tr style=\"text-align: right;\">\n",
       "      <th></th>\n",
       "      <th>Store</th>\n",
       "      <th>DayOfWeek</th>\n",
       "      <th>Date</th>\n",
       "      <th>Sales</th>\n",
       "      <th>Customers</th>\n",
       "      <th>Open</th>\n",
       "      <th>Promo</th>\n",
       "      <th>StateHoliday</th>\n",
       "      <th>SchoolHoliday</th>\n",
       "    </tr>\n",
       "  </thead>\n",
       "  <tbody>\n",
       "    <tr>\n",
       "      <th>3</th>\n",
       "      <td>4</td>\n",
       "      <td>5</td>\n",
       "      <td>2015-07-31</td>\n",
       "      <td>13995</td>\n",
       "      <td>1498</td>\n",
       "      <td>1</td>\n",
       "      <td>1</td>\n",
       "      <td>0</td>\n",
       "      <td>1</td>\n",
       "    </tr>\n",
       "    <tr>\n",
       "      <th>6</th>\n",
       "      <td>7</td>\n",
       "      <td>5</td>\n",
       "      <td>2015-07-31</td>\n",
       "      <td>15344</td>\n",
       "      <td>1414</td>\n",
       "      <td>1</td>\n",
       "      <td>1</td>\n",
       "      <td>0</td>\n",
       "      <td>1</td>\n",
       "    </tr>\n",
       "    <tr>\n",
       "      <th>10</th>\n",
       "      <td>11</td>\n",
       "      <td>5</td>\n",
       "      <td>2015-07-31</td>\n",
       "      <td>10457</td>\n",
       "      <td>1236</td>\n",
       "      <td>1</td>\n",
       "      <td>1</td>\n",
       "      <td>0</td>\n",
       "      <td>1</td>\n",
       "    </tr>\n",
       "    <tr>\n",
       "      <th>15</th>\n",
       "      <td>16</td>\n",
       "      <td>5</td>\n",
       "      <td>2015-07-31</td>\n",
       "      <td>10231</td>\n",
       "      <td>979</td>\n",
       "      <td>1</td>\n",
       "      <td>1</td>\n",
       "      <td>0</td>\n",
       "      <td>1</td>\n",
       "    </tr>\n",
       "    <tr>\n",
       "      <th>17</th>\n",
       "      <td>18</td>\n",
       "      <td>5</td>\n",
       "      <td>2015-07-31</td>\n",
       "      <td>10071</td>\n",
       "      <td>936</td>\n",
       "      <td>1</td>\n",
       "      <td>1</td>\n",
       "      <td>0</td>\n",
       "      <td>1</td>\n",
       "    </tr>\n",
       "  </tbody>\n",
       "</table>\n",
       "</div>"
      ],
      "text/plain": [
       "    Store  DayOfWeek        Date  Sales  Customers  Open  Promo StateHoliday  \\\n",
       "3       4          5  2015-07-31  13995       1498     1      1            0   \n",
       "6       7          5  2015-07-31  15344       1414     1      1            0   \n",
       "10     11          5  2015-07-31  10457       1236     1      1            0   \n",
       "15     16          5  2015-07-31  10231        979     1      1            0   \n",
       "17     18          5  2015-07-31  10071        936     1      1            0   \n",
       "\n",
       "    SchoolHoliday  \n",
       "3               1  \n",
       "6               1  \n",
       "10              1  \n",
       "15              1  \n",
       "17              1  "
      ]
     },
     "execution_count": 336,
     "metadata": {},
     "output_type": "execute_result"
    }
   ],
   "source": [
    "df.loc[(df.DayOfWeek == 5) & (df.Sales > 10_000)].head()"
   ]
  },
  {
   "cell_type": "markdown",
   "metadata": {},
   "source": [
    "To avoid this, Pandas provides a `query` method for which I have a bit of a love-hate relationship. The good thing is that it provides a way to write conditions that are more pythonic (without parenthesis and with keywords). The bad thing is that you need to encapsulate this code in a string:"
   ]
  },
  {
   "cell_type": "code",
   "execution_count": 337,
   "metadata": {
    "scrolled": true
   },
   "outputs": [
    {
     "data": {
      "text/html": [
       "<div>\n",
       "<style scoped>\n",
       "    .dataframe tbody tr th:only-of-type {\n",
       "        vertical-align: middle;\n",
       "    }\n",
       "\n",
       "    .dataframe tbody tr th {\n",
       "        vertical-align: top;\n",
       "    }\n",
       "\n",
       "    .dataframe thead th {\n",
       "        text-align: right;\n",
       "    }\n",
       "</style>\n",
       "<table border=\"1\" class=\"dataframe\">\n",
       "  <thead>\n",
       "    <tr style=\"text-align: right;\">\n",
       "      <th></th>\n",
       "      <th>Store</th>\n",
       "      <th>DayOfWeek</th>\n",
       "      <th>Date</th>\n",
       "      <th>Sales</th>\n",
       "      <th>Customers</th>\n",
       "      <th>Open</th>\n",
       "      <th>Promo</th>\n",
       "      <th>StateHoliday</th>\n",
       "      <th>SchoolHoliday</th>\n",
       "    </tr>\n",
       "  </thead>\n",
       "  <tbody>\n",
       "    <tr>\n",
       "      <th>3</th>\n",
       "      <td>4</td>\n",
       "      <td>5</td>\n",
       "      <td>2015-07-31</td>\n",
       "      <td>13995</td>\n",
       "      <td>1498</td>\n",
       "      <td>1</td>\n",
       "      <td>1</td>\n",
       "      <td>0</td>\n",
       "      <td>1</td>\n",
       "    </tr>\n",
       "    <tr>\n",
       "      <th>6</th>\n",
       "      <td>7</td>\n",
       "      <td>5</td>\n",
       "      <td>2015-07-31</td>\n",
       "      <td>15344</td>\n",
       "      <td>1414</td>\n",
       "      <td>1</td>\n",
       "      <td>1</td>\n",
       "      <td>0</td>\n",
       "      <td>1</td>\n",
       "    </tr>\n",
       "    <tr>\n",
       "      <th>10</th>\n",
       "      <td>11</td>\n",
       "      <td>5</td>\n",
       "      <td>2015-07-31</td>\n",
       "      <td>10457</td>\n",
       "      <td>1236</td>\n",
       "      <td>1</td>\n",
       "      <td>1</td>\n",
       "      <td>0</td>\n",
       "      <td>1</td>\n",
       "    </tr>\n",
       "    <tr>\n",
       "      <th>15</th>\n",
       "      <td>16</td>\n",
       "      <td>5</td>\n",
       "      <td>2015-07-31</td>\n",
       "      <td>10231</td>\n",
       "      <td>979</td>\n",
       "      <td>1</td>\n",
       "      <td>1</td>\n",
       "      <td>0</td>\n",
       "      <td>1</td>\n",
       "    </tr>\n",
       "    <tr>\n",
       "      <th>17</th>\n",
       "      <td>18</td>\n",
       "      <td>5</td>\n",
       "      <td>2015-07-31</td>\n",
       "      <td>10071</td>\n",
       "      <td>936</td>\n",
       "      <td>1</td>\n",
       "      <td>1</td>\n",
       "      <td>0</td>\n",
       "      <td>1</td>\n",
       "    </tr>\n",
       "  </tbody>\n",
       "</table>\n",
       "</div>"
      ],
      "text/plain": [
       "    Store  DayOfWeek        Date  Sales  Customers  Open  Promo StateHoliday  \\\n",
       "3       4          5  2015-07-31  13995       1498     1      1            0   \n",
       "6       7          5  2015-07-31  15344       1414     1      1            0   \n",
       "10     11          5  2015-07-31  10457       1236     1      1            0   \n",
       "15     16          5  2015-07-31  10231        979     1      1            0   \n",
       "17     18          5  2015-07-31  10071        936     1      1            0   \n",
       "\n",
       "    SchoolHoliday  \n",
       "3               1  \n",
       "6               1  \n",
       "10              1  \n",
       "15              1  \n",
       "17              1  "
      ]
     },
     "execution_count": 337,
     "metadata": {},
     "output_type": "execute_result"
    }
   ],
   "source": [
    "df.query('DayOfWeek == 5 and Sales > 10_000').head()"
   ]
  },
  {
   "cell_type": "markdown",
   "metadata": {},
   "source": [
    "I am not too familiar with what happens under-the-hood, but I assume Pandas uses a call to `exec` so you should keep this in mind. \n",
    "\n",
    "I think we made good progress since we started. We now know how to select a column or a subset of columns, how to select a row or many rows, based on their position in the dataframe or based on their index and how to obtain specific rows by formulating boolean queries. Heck, if we wanted, we could right now obtain all the entries that happened between a Tuesday and a Thursday, where there were more than 1,500 customers but less than 3,000 and which generated at least $7,500. Oh and let's say that want this is happen during school holidays."
   ]
  },
  {
   "cell_type": "code",
   "execution_count": 338,
   "metadata": {
    "scrolled": true
   },
   "outputs": [
    {
     "data": {
      "text/html": [
       "<div>\n",
       "<style scoped>\n",
       "    .dataframe tbody tr th:only-of-type {\n",
       "        vertical-align: middle;\n",
       "    }\n",
       "\n",
       "    .dataframe tbody tr th {\n",
       "        vertical-align: top;\n",
       "    }\n",
       "\n",
       "    .dataframe thead th {\n",
       "        text-align: right;\n",
       "    }\n",
       "</style>\n",
       "<table border=\"1\" class=\"dataframe\">\n",
       "  <thead>\n",
       "    <tr style=\"text-align: right;\">\n",
       "      <th></th>\n",
       "      <th>Store</th>\n",
       "      <th>DayOfWeek</th>\n",
       "      <th>Date</th>\n",
       "      <th>Sales</th>\n",
       "      <th>Customers</th>\n",
       "      <th>Open</th>\n",
       "      <th>Promo</th>\n",
       "      <th>StateHoliday</th>\n",
       "      <th>SchoolHoliday</th>\n",
       "    </tr>\n",
       "  </thead>\n",
       "  <tbody>\n",
       "    <tr>\n",
       "      <th>1239</th>\n",
       "      <td>125</td>\n",
       "      <td>4</td>\n",
       "      <td>2015-07-30</td>\n",
       "      <td>13146</td>\n",
       "      <td>1580</td>\n",
       "      <td>1</td>\n",
       "      <td>1</td>\n",
       "      <td>0</td>\n",
       "      <td>1</td>\n",
       "    </tr>\n",
       "    <tr>\n",
       "      <th>1365</th>\n",
       "      <td>251</td>\n",
       "      <td>4</td>\n",
       "      <td>2015-07-30</td>\n",
       "      <td>20061</td>\n",
       "      <td>2377</td>\n",
       "      <td>1</td>\n",
       "      <td>1</td>\n",
       "      <td>0</td>\n",
       "      <td>1</td>\n",
       "    </tr>\n",
       "    <tr>\n",
       "      <th>1373</th>\n",
       "      <td>259</td>\n",
       "      <td>4</td>\n",
       "      <td>2015-07-30</td>\n",
       "      <td>12178</td>\n",
       "      <td>2477</td>\n",
       "      <td>1</td>\n",
       "      <td>1</td>\n",
       "      <td>0</td>\n",
       "      <td>1</td>\n",
       "    </tr>\n",
       "    <tr>\n",
       "      <th>1381</th>\n",
       "      <td>267</td>\n",
       "      <td>4</td>\n",
       "      <td>2015-07-30</td>\n",
       "      <td>14475</td>\n",
       "      <td>1697</td>\n",
       "      <td>1</td>\n",
       "      <td>1</td>\n",
       "      <td>0</td>\n",
       "      <td>1</td>\n",
       "    </tr>\n",
       "    <tr>\n",
       "      <th>1434</th>\n",
       "      <td>320</td>\n",
       "      <td>4</td>\n",
       "      <td>2015-07-30</td>\n",
       "      <td>16912</td>\n",
       "      <td>2071</td>\n",
       "      <td>1</td>\n",
       "      <td>1</td>\n",
       "      <td>0</td>\n",
       "      <td>1</td>\n",
       "    </tr>\n",
       "  </tbody>\n",
       "</table>\n",
       "</div>"
      ],
      "text/plain": [
       "      Store  DayOfWeek        Date  Sales  Customers  Open  Promo  \\\n",
       "1239    125          4  2015-07-30  13146       1580     1      1   \n",
       "1365    251          4  2015-07-30  20061       2377     1      1   \n",
       "1373    259          4  2015-07-30  12178       2477     1      1   \n",
       "1381    267          4  2015-07-30  14475       1697     1      1   \n",
       "1434    320          4  2015-07-30  16912       2071     1      1   \n",
       "\n",
       "     StateHoliday  SchoolHoliday  \n",
       "1239            0              1  \n",
       "1365            0              1  \n",
       "1373            0              1  \n",
       "1381            0              1  \n",
       "1434            0              1  "
      ]
     },
     "execution_count": 338,
     "metadata": {},
     "output_type": "execute_result"
    }
   ],
   "source": [
    "df.query('2 <= DayOfWeek <= 4 and '\n",
    "         '1_500 <= Customers <= 3_000 and '\n",
    "         '7_500 <= Sales and ' \n",
    "         'SchoolHoliday == 1').head()"
   ]
  },
  {
   "cell_type": "markdown",
   "metadata": {},
   "source": [
    "## Chaining\n",
    "\n",
    "There's an essential aspect of a *pandorable* code which is **chaining**. We will describe it through examples although it's easy to understand. Let's take the following example. We're making a query to obtain Fridays and sales greater than $10,000 as previsouly. The result is a dataframe. So we can select its column Store:"
   ]
  },
  {
   "cell_type": "code",
   "execution_count": 339,
   "metadata": {
    "scrolled": false
   },
   "outputs": [
    {
     "data": {
      "text/plain": [
       "3      4\n",
       "6      7\n",
       "10    11\n",
       "15    16\n",
       "17    18\n",
       "Name: Store, dtype: int64"
      ]
     },
     "execution_count": 339,
     "metadata": {},
     "output_type": "execute_result"
    }
   ],
   "source": [
    "(df.query('DayOfWeek == 5 and Sales > 10_000').Store).head()"
   ]
  },
  {
   "cell_type": "markdown",
   "metadata": {},
   "source": [
    "We can even go further and reduce this column by obtaining its mean:"
   ]
  },
  {
   "cell_type": "code",
   "execution_count": 412,
   "metadata": {
    "scrolled": true
   },
   "outputs": [
    {
     "data": {
      "text/plain": [
       "12553.586294416244"
      ]
     },
     "execution_count": 412,
     "metadata": {},
     "output_type": "execute_result"
    }
   ],
   "source": [
    "df.query('DayOfWeek == 5 and Sales > 10_000').Sales.mean()"
   ]
  },
  {
   "cell_type": "markdown",
   "metadata": {},
   "source": [
    "In short, we:  \n",
    "- selected the dataframe\n",
    "- from this dataframe, made a boolean query to select specific rows. We obtained a new dataframe.\n",
    "- from this dataframe, obtained the the column Sales. We obtained a Series.\n",
    "- from this series, we computed the mean value.\n",
    "\n",
    "All of this in just one line! Or should I say in one command. A pandorable way to write this is the following:"
   ]
  },
  {
   "cell_type": "code",
   "execution_count": 413,
   "metadata": {},
   "outputs": [
    {
     "data": {
      "text/plain": [
       "12553.586294416244"
      ]
     },
     "execution_count": 413,
     "metadata": {},
     "output_type": "execute_result"
    }
   ],
   "source": [
    "(df.query('DayOfWeek == 5 and Sales > 10_000')\n",
    "   .Sales\n",
    "   .mean())"
   ]
  },
  {
   "cell_type": "markdown",
   "metadata": {},
   "source": [
    "That's method chaining. Why does it matter? First of all, Pandas is made to work well with this sort of chaining. The reason for this is that every method or function you will see in Pandas will never alter the dataframe under the hood. It will **always return** an altered version of the dataframe. Here's the non-chain way of computing the average sales that are greater than $10,000 and obtained on a Friday:"
   ]
  },
  {
   "cell_type": "code",
   "execution_count": 414,
   "metadata": {
    "scrolled": true
   },
   "outputs": [
    {
     "name": "stdout",
     "output_type": "stream",
     "text": [
      "12553.586294416244\n"
     ]
    }
   ],
   "source": [
    "queried_df = df.query('DayOfWeek == 5 and Sales > 10_000')\n",
    "sales_column_from_queried_df = queried_df.Sales\n",
    "average_sales = sales_column_from_queried_df.mean()\n",
    "\n",
    "print(average_sales)"
   ]
  },
  {
   "cell_type": "markdown",
   "metadata": {},
   "source": [
    "What's more readable? By forcing us to have to name every intermediate variable along the way, there's a risk of making the code too verbose and harder to understand. Although this can be debated. It could be that someone who has never used Pandas finds the second snippet easier to understand, precisely because we named everything.\n",
    "\n",
    "Another good side effect of using method chaining is that it limits the risk of undesired results. This one is slightly less obvious. But imagine for a second: a common (not recommended) way to manipulate dataframes is to successively alter it, line by line. Like:  \n",
    "\n",
    "```df = df.query('Open == 1')\n",
    "df['LotsOfCustomers'] = df.Customers > 5_000  # Creates a new boolean column\n",
    "df.loc[5, 'date'] = '2018-11-14'  # Changes the 'date' value of the row with index 5\n",
    "df = df.loc[df.Store == 12]```\n",
    "\n",
    "In this example, we took a subset of the dataframe, created a new column, modified a value and took a subset again. Let's say that we are creating a pipeline that includes all those steps. We proceed by creating many more Jupyter cells with more processing steps like this. What happens if at some point I decide to go back a few cells and execute this code again? The `df` dataframe will have completely changed and we have no guarantee that the column `Open` or `Date` still exists. Or that there is a store with id `12`.   \n",
    "By splitting our pipeline in several steps, we included a risk based on the fact that at each line we expect `df` to have specific characteristics. Conversely, if we create a pipeline using method chaining from loading the data to end results, there's no such risk since everything is achieved in just one command.  \n",
    "However note that this reason of prefering method chaining is quite specific to notebooks where code doesn't follow a specific order (contrary to a script). So I think chaining is less important in scripts although it still makes the code slightly cleaner.\n"
   ]
  },
  {
   "cell_type": "markdown",
   "metadata": {},
   "source": [
    "## Cleaning\n",
    "\n",
    "Alright, now, plot twist: in the next few examples, I will NOT be using method chaining. But this is only for education purposes. As it turns out, method chaining hides the action of each step. Here I precisely want to show you what all the methods do. So we won't use method chaining for now. We will run a few commands and at the end we will gather everything in a single-command, chained pipeline.\n",
    "\n",
    "An important part of dealing with dataframes is cleaning. There are many things 'cleaning' implies so we will focus on a few aspects:  \n",
    "- renaming columns\n",
    "- renaming some categorical variables\n",
    "- setting a proper dtype to columns\n",
    "\n",
    "At the end of the process, we want to have a tidy dataframe where each column has an acceptable name with a known dtype. Let's see how to do it.\n",
    "\n",
    "### Renaming columns\n",
    "\n",
    "I'm almost ashamed to make a section for this but believe it or not, there's a `rename` function. You have to specify if you want to rename rows or columns and then pass a dictionnary of the form `{old_name: new_name}`. Like so:"
   ]
  },
  {
   "cell_type": "code",
   "execution_count": 343,
   "metadata": {},
   "outputs": [
    {
     "data": {
      "text/html": [
       "<div>\n",
       "<style scoped>\n",
       "    .dataframe tbody tr th:only-of-type {\n",
       "        vertical-align: middle;\n",
       "    }\n",
       "\n",
       "    .dataframe tbody tr th {\n",
       "        vertical-align: top;\n",
       "    }\n",
       "\n",
       "    .dataframe thead th {\n",
       "        text-align: right;\n",
       "    }\n",
       "</style>\n",
       "<table border=\"1\" class=\"dataframe\">\n",
       "  <thead>\n",
       "    <tr style=\"text-align: right;\">\n",
       "      <th></th>\n",
       "      <th>Store</th>\n",
       "      <th>DayOfWeek</th>\n",
       "      <th>Date</th>\n",
       "      <th>sales</th>\n",
       "      <th>customers</th>\n",
       "      <th>Open</th>\n",
       "      <th>Promo</th>\n",
       "      <th>StateHoliday</th>\n",
       "      <th>SchoolHoliday</th>\n",
       "    </tr>\n",
       "  </thead>\n",
       "  <tbody>\n",
       "    <tr>\n",
       "      <th>0</th>\n",
       "      <td>1</td>\n",
       "      <td>5</td>\n",
       "      <td>2015-07-31</td>\n",
       "      <td>5263</td>\n",
       "      <td>555</td>\n",
       "      <td>1</td>\n",
       "      <td>1</td>\n",
       "      <td>0</td>\n",
       "      <td>1</td>\n",
       "    </tr>\n",
       "    <tr>\n",
       "      <th>1</th>\n",
       "      <td>2</td>\n",
       "      <td>5</td>\n",
       "      <td>2015-07-31</td>\n",
       "      <td>6064</td>\n",
       "      <td>625</td>\n",
       "      <td>1</td>\n",
       "      <td>1</td>\n",
       "      <td>0</td>\n",
       "      <td>1</td>\n",
       "    </tr>\n",
       "    <tr>\n",
       "      <th>2</th>\n",
       "      <td>3</td>\n",
       "      <td>5</td>\n",
       "      <td>2015-07-31</td>\n",
       "      <td>8314</td>\n",
       "      <td>821</td>\n",
       "      <td>1</td>\n",
       "      <td>1</td>\n",
       "      <td>0</td>\n",
       "      <td>1</td>\n",
       "    </tr>\n",
       "    <tr>\n",
       "      <th>3</th>\n",
       "      <td>4</td>\n",
       "      <td>5</td>\n",
       "      <td>2015-07-31</td>\n",
       "      <td>13995</td>\n",
       "      <td>1498</td>\n",
       "      <td>1</td>\n",
       "      <td>1</td>\n",
       "      <td>0</td>\n",
       "      <td>1</td>\n",
       "    </tr>\n",
       "    <tr>\n",
       "      <th>4</th>\n",
       "      <td>5</td>\n",
       "      <td>5</td>\n",
       "      <td>2015-07-31</td>\n",
       "      <td>4822</td>\n",
       "      <td>559</td>\n",
       "      <td>1</td>\n",
       "      <td>1</td>\n",
       "      <td>0</td>\n",
       "      <td>1</td>\n",
       "    </tr>\n",
       "  </tbody>\n",
       "</table>\n",
       "</div>"
      ],
      "text/plain": [
       "   Store  DayOfWeek        Date  sales  customers  Open  Promo StateHoliday  \\\n",
       "0      1          5  2015-07-31   5263        555     1      1            0   \n",
       "1      2          5  2015-07-31   6064        625     1      1            0   \n",
       "2      3          5  2015-07-31   8314        821     1      1            0   \n",
       "3      4          5  2015-07-31  13995       1498     1      1            0   \n",
       "4      5          5  2015-07-31   4822        559     1      1            0   \n",
       "\n",
       "   SchoolHoliday  \n",
       "0              1  \n",
       "1              1  \n",
       "2              1  \n",
       "3              1  \n",
       "4              1  "
      ]
     },
     "execution_count": 343,
     "metadata": {},
     "output_type": "execute_result"
    }
   ],
   "source": [
    "(df.rename(columns={'Customers': 'customers',\n",
    "                    'Sales': 'sales'})\n",
    "   .head())"
   ]
  },
  {
   "cell_type": "markdown",
   "metadata": {},
   "source": [
    "Note that the name of some of the columns have changed. Now, something which is perhaps more unknown is that you can pass a callable to `rename`. This callable will be applied to each column name. Let's make a function that converts CamelCase to snake_case and use to rename the columns of the dataframe."
   ]
  },
  {
   "cell_type": "code",
   "execution_count": 344,
   "metadata": {},
   "outputs": [
    {
     "data": {
      "text/html": [
       "<div>\n",
       "<style scoped>\n",
       "    .dataframe tbody tr th:only-of-type {\n",
       "        vertical-align: middle;\n",
       "    }\n",
       "\n",
       "    .dataframe tbody tr th {\n",
       "        vertical-align: top;\n",
       "    }\n",
       "\n",
       "    .dataframe thead th {\n",
       "        text-align: right;\n",
       "    }\n",
       "</style>\n",
       "<table border=\"1\" class=\"dataframe\">\n",
       "  <thead>\n",
       "    <tr style=\"text-align: right;\">\n",
       "      <th></th>\n",
       "      <th>store_id</th>\n",
       "      <th>day_of_week</th>\n",
       "      <th>date</th>\n",
       "      <th>sales</th>\n",
       "      <th>customers</th>\n",
       "      <th>open</th>\n",
       "      <th>promo</th>\n",
       "      <th>state_holiday</th>\n",
       "      <th>school_holiday</th>\n",
       "    </tr>\n",
       "  </thead>\n",
       "  <tbody>\n",
       "    <tr>\n",
       "      <th>0</th>\n",
       "      <td>1</td>\n",
       "      <td>5</td>\n",
       "      <td>2015-07-31</td>\n",
       "      <td>5263</td>\n",
       "      <td>555</td>\n",
       "      <td>1</td>\n",
       "      <td>1</td>\n",
       "      <td>0</td>\n",
       "      <td>1</td>\n",
       "    </tr>\n",
       "    <tr>\n",
       "      <th>1</th>\n",
       "      <td>2</td>\n",
       "      <td>5</td>\n",
       "      <td>2015-07-31</td>\n",
       "      <td>6064</td>\n",
       "      <td>625</td>\n",
       "      <td>1</td>\n",
       "      <td>1</td>\n",
       "      <td>0</td>\n",
       "      <td>1</td>\n",
       "    </tr>\n",
       "    <tr>\n",
       "      <th>2</th>\n",
       "      <td>3</td>\n",
       "      <td>5</td>\n",
       "      <td>2015-07-31</td>\n",
       "      <td>8314</td>\n",
       "      <td>821</td>\n",
       "      <td>1</td>\n",
       "      <td>1</td>\n",
       "      <td>0</td>\n",
       "      <td>1</td>\n",
       "    </tr>\n",
       "    <tr>\n",
       "      <th>3</th>\n",
       "      <td>4</td>\n",
       "      <td>5</td>\n",
       "      <td>2015-07-31</td>\n",
       "      <td>13995</td>\n",
       "      <td>1498</td>\n",
       "      <td>1</td>\n",
       "      <td>1</td>\n",
       "      <td>0</td>\n",
       "      <td>1</td>\n",
       "    </tr>\n",
       "    <tr>\n",
       "      <th>4</th>\n",
       "      <td>5</td>\n",
       "      <td>5</td>\n",
       "      <td>2015-07-31</td>\n",
       "      <td>4822</td>\n",
       "      <td>559</td>\n",
       "      <td>1</td>\n",
       "      <td>1</td>\n",
       "      <td>0</td>\n",
       "      <td>1</td>\n",
       "    </tr>\n",
       "  </tbody>\n",
       "</table>\n",
       "</div>"
      ],
      "text/plain": [
       "   store_id  day_of_week        date  sales  customers  open  promo  \\\n",
       "0         1            5  2015-07-31   5263        555     1      1   \n",
       "1         2            5  2015-07-31   6064        625     1      1   \n",
       "2         3            5  2015-07-31   8314        821     1      1   \n",
       "3         4            5  2015-07-31  13995       1498     1      1   \n",
       "4         5            5  2015-07-31   4822        559     1      1   \n",
       "\n",
       "  state_holiday  school_holiday  \n",
       "0             0               1  \n",
       "1             0               1  \n",
       "2             0               1  \n",
       "3             0               1  \n",
       "4             0               1  "
      ]
     },
     "execution_count": 344,
     "metadata": {},
     "output_type": "execute_result"
    }
   ],
   "source": [
    "def camel_to_snake(camel_x):\n",
    "    \"\"\"Converts CamelCase (e.g. DayOfWeek) to snake_case (e.g.: day_of_week)\"\"\"\n",
    "    snake_x = []\n",
    "    for i, char in enumerate(camel_x):\n",
    "        if char.isupper() and i != 0:\n",
    "            snake_x.append('_')\n",
    "        snake_x.append(char.lower())\n",
    "        \n",
    "    return ''.join(snake_x)\n",
    "\n",
    "df = df.rename(columns=camel_to_snake)\n",
    "df = df.rename(columns={'store': 'store_id'})\n",
    "df.head()"
   ]
  },
  {
   "cell_type": "markdown",
   "metadata": {},
   "source": [
    "My pythonic mind is much more comfortable now. All those uppercase letters, urgh. :-)   \n",
    "It's already slightly better. Now let's enforce a dtype to all the columns. There are several reasons why we might want to do this:  \n",
    "- we limit the number of bad surprises (for instance, if by default Pandas thinks that `transaction_id` is an int, it will let you do arithmetics on it. No thanks, let's avoid that.\n",
    "- we can use better storing systems than CSV (for instance: Pickle or Feather). This can compress the data based on the dtype (why use 64 bits when 16 bits is enough?).\n",
    "- processing is potentially faster (Pandas doesn't have to try to cast the input).\n",
    "- if you are doing machine learning, [scikit-learn](https://scikit-learn.org/stable/) is facilitating more and more the use of dataframes as input for its machine learning models. In this case, the difference between `1` (as an int) and `'1'` (as a string) is crucial.\n",
    "- perhaps most importantly: we all like a tidy house, right? By defining the dtype of all the columns, we have more insurance that everyting is at the right place.\n",
    "\n",
    "Now that we reviewed why you should want to cast your columns, let's cover a few possibilities:  \n",
    "- numeric: float, int, etc. Pandas provides a handy function `pd.to_numeric` that can handle missing values (NaN) more gracefully. We will not be using it in this tutorial since we don't have missing data.\n",
    "- bool\n",
    "- strings\n",
    "- datetime via the function `pd.to_datetime`.\n",
    "- categories: this one is slightly more abstract. It can be very convenient when using scikit-learn or any other machine learning library and can be very efficiency compressed (using a sparse representation). A column should be declared 'category' when there is a somewhat limited number of values that the variable can take. For instance, `day_of_the_week` can be thought as a categorical variable because there are only 7 values that it can take. On the contrary, if we had a table with millions of new transactions everyday, the `transaction_id` column woudln't be a great fit. Choosing whether or not one wants to use the 'category' dtype is up to her. Again, it's all problem-dependant. What should the dataframe represent?  \n",
    "\n",
    "Let's convert a few columns. We will take care of the `date` column in a minute."
   ]
  },
  {
   "cell_type": "code",
   "execution_count": 345,
   "metadata": {
    "scrolled": true
   },
   "outputs": [
    {
     "data": {
      "text/html": [
       "<div>\n",
       "<style scoped>\n",
       "    .dataframe tbody tr th:only-of-type {\n",
       "        vertical-align: middle;\n",
       "    }\n",
       "\n",
       "    .dataframe tbody tr th {\n",
       "        vertical-align: top;\n",
       "    }\n",
       "\n",
       "    .dataframe thead th {\n",
       "        text-align: right;\n",
       "    }\n",
       "</style>\n",
       "<table border=\"1\" class=\"dataframe\">\n",
       "  <thead>\n",
       "    <tr style=\"text-align: right;\">\n",
       "      <th></th>\n",
       "      <th>store_id</th>\n",
       "      <th>day_of_week</th>\n",
       "      <th>date</th>\n",
       "      <th>sales</th>\n",
       "      <th>customers</th>\n",
       "      <th>open</th>\n",
       "      <th>promo</th>\n",
       "      <th>state_holiday</th>\n",
       "      <th>school_holiday</th>\n",
       "    </tr>\n",
       "  </thead>\n",
       "  <tbody>\n",
       "    <tr>\n",
       "      <th>0</th>\n",
       "      <td>1</td>\n",
       "      <td>5</td>\n",
       "      <td>2015-07-31</td>\n",
       "      <td>5263.0</td>\n",
       "      <td>555.0</td>\n",
       "      <td>1</td>\n",
       "      <td>1</td>\n",
       "      <td>0</td>\n",
       "      <td>1</td>\n",
       "    </tr>\n",
       "    <tr>\n",
       "      <th>1</th>\n",
       "      <td>2</td>\n",
       "      <td>5</td>\n",
       "      <td>2015-07-31</td>\n",
       "      <td>6064.0</td>\n",
       "      <td>625.0</td>\n",
       "      <td>1</td>\n",
       "      <td>1</td>\n",
       "      <td>0</td>\n",
       "      <td>1</td>\n",
       "    </tr>\n",
       "    <tr>\n",
       "      <th>2</th>\n",
       "      <td>3</td>\n",
       "      <td>5</td>\n",
       "      <td>2015-07-31</td>\n",
       "      <td>8314.0</td>\n",
       "      <td>821.0</td>\n",
       "      <td>1</td>\n",
       "      <td>1</td>\n",
       "      <td>0</td>\n",
       "      <td>1</td>\n",
       "    </tr>\n",
       "    <tr>\n",
       "      <th>3</th>\n",
       "      <td>4</td>\n",
       "      <td>5</td>\n",
       "      <td>2015-07-31</td>\n",
       "      <td>13995.0</td>\n",
       "      <td>1498.0</td>\n",
       "      <td>1</td>\n",
       "      <td>1</td>\n",
       "      <td>0</td>\n",
       "      <td>1</td>\n",
       "    </tr>\n",
       "    <tr>\n",
       "      <th>4</th>\n",
       "      <td>5</td>\n",
       "      <td>5</td>\n",
       "      <td>2015-07-31</td>\n",
       "      <td>4822.0</td>\n",
       "      <td>559.0</td>\n",
       "      <td>1</td>\n",
       "      <td>1</td>\n",
       "      <td>0</td>\n",
       "      <td>1</td>\n",
       "    </tr>\n",
       "  </tbody>\n",
       "</table>\n",
       "</div>"
      ],
      "text/plain": [
       "  store_id day_of_week        date    sales  customers open promo  \\\n",
       "0        1           5  2015-07-31   5263.0      555.0    1     1   \n",
       "1        2           5  2015-07-31   6064.0      625.0    1     1   \n",
       "2        3           5  2015-07-31   8314.0      821.0    1     1   \n",
       "3        4           5  2015-07-31  13995.0     1498.0    1     1   \n",
       "4        5           5  2015-07-31   4822.0      559.0    1     1   \n",
       "\n",
       "  state_holiday school_holiday  \n",
       "0             0              1  \n",
       "1             0              1  \n",
       "2             0              1  \n",
       "3             0              1  \n",
       "4             0              1  "
      ]
     },
     "execution_count": 345,
     "metadata": {},
     "output_type": "execute_result"
    }
   ],
   "source": [
    "df = df.astype(dict(store_id='str',\n",
    "                    day_of_week='category',\n",
    "                    sales=np.float32,\n",
    "                    customers=np.float32,\n",
    "                    open='category',\n",
    "                    promo='category',\n",
    "                    state_holiday='category',\n",
    "                    school_holiday='category'))\n",
    "df.head()"
   ]
  },
  {
   "cell_type": "markdown",
   "metadata": {},
   "source": [
    "It seems like nothing happened by actually, if you select a column, you can now have more information. Notice that Pandas acknowledges that `day_of_week` is a category and that it holds 7 unique int64 values: 1, 2, 3, 4, 5, 6, 7.   \n",
    "Also take note that a *category* is not a dtype by itself. It's a layer on top of a dtype to indicate that the column has a restricted number of non-ordered values. In this sense, we would probably have been better off first declaring `day_of_week` as a uint8 and then as a category."
   ]
  },
  {
   "cell_type": "code",
   "execution_count": 346,
   "metadata": {
    "scrolled": false
   },
   "outputs": [
    {
     "data": {
      "text/plain": [
       "0    5\n",
       "1    5\n",
       "2    5\n",
       "3    5\n",
       "4    5\n",
       "Name: day_of_week, dtype: category\n",
       "Categories (7, int64): [1, 2, 3, 4, 5, 6, 7]"
      ]
     },
     "execution_count": 346,
     "metadata": {},
     "output_type": "execute_result"
    }
   ],
   "source": [
    "df.day_of_week.head()"
   ]
  },
  {
   "cell_type": "markdown",
   "metadata": {},
   "source": [
    "### Applying a function on values of a dataframe\n",
    "\n",
    "This one is obviously quite important. Let's say that we want to convert the `day_of_week` column, represented with a int, by plain-english words?  \n",
    "One way would be to iterate over the rows of the dataframe and modify the values one by one. That is the obvious thing to do but extremely non-pandorable! First of all, a `for` loop can't really be integrated into a chained pipeline (although it can as we will see later), but it's also inefficient because this implies that you will retrieve each row at least twice:  \n",
    "- once thanks to the `for` loop\n",
    "- once to set the new value  \n",
    "\n",
    "Instead, Pandas provides the `apply` method which can be integrated into a pipeline and works for dataframes and series:"
   ]
  },
  {
   "cell_type": "code",
   "execution_count": 347,
   "metadata": {},
   "outputs": [
    {
     "data": {
      "text/plain": [
       "0    friday\n",
       "1    friday\n",
       "2    friday\n",
       "3    friday\n",
       "4    friday\n",
       "Name: day_of_week, dtype: category\n",
       "Categories (7, object): [monday, tuesday, wednesday, thursday, friday, saturday, sunday]"
      ]
     },
     "execution_count": 347,
     "metadata": {},
     "output_type": "execute_result"
    }
   ],
   "source": [
    "day_of_week_id2name = {\n",
    "    1: 'monday',\n",
    "    2: 'tuesday',\n",
    "    3: 'wednesday',\n",
    "    4: 'thursday',\n",
    "    5: 'friday',\n",
    "    6: 'saturday',\n",
    "    7: 'sunday'}\n",
    "\n",
    "(df.day_of_week\n",
    "   .apply(lambda x: day_of_week_id2name[x])\n",
    "   .head())"
   ]
  },
  {
   "cell_type": "markdown",
   "metadata": {},
   "source": [
    "In the lambda function, the values of `x` corresponds to the successive values of the `day_of_week` column.  \n",
    "So we managed to convert this id-based `day_of_week` to a english word-based `day_of_week`. But we haven't **changed** the values of `day_of_week` in the original dataset. How can we do that? In the following cells, I'll use a temporary dataframe to avoid altering our original `df`.  \n",
    "\n",
    "A first way is to literally **replace** the `day_of_week` column by the one we obtained previously:"
   ]
  },
  {
   "cell_type": "code",
   "execution_count": 348,
   "metadata": {},
   "outputs": [
    {
     "data": {
      "text/html": [
       "<div>\n",
       "<style scoped>\n",
       "    .dataframe tbody tr th:only-of-type {\n",
       "        vertical-align: middle;\n",
       "    }\n",
       "\n",
       "    .dataframe tbody tr th {\n",
       "        vertical-align: top;\n",
       "    }\n",
       "\n",
       "    .dataframe thead th {\n",
       "        text-align: right;\n",
       "    }\n",
       "</style>\n",
       "<table border=\"1\" class=\"dataframe\">\n",
       "  <thead>\n",
       "    <tr style=\"text-align: right;\">\n",
       "      <th></th>\n",
       "      <th>store_id</th>\n",
       "      <th>day_of_week</th>\n",
       "      <th>date</th>\n",
       "      <th>sales</th>\n",
       "      <th>customers</th>\n",
       "      <th>open</th>\n",
       "      <th>promo</th>\n",
       "      <th>state_holiday</th>\n",
       "      <th>school_holiday</th>\n",
       "    </tr>\n",
       "  </thead>\n",
       "  <tbody>\n",
       "    <tr>\n",
       "      <th>0</th>\n",
       "      <td>1</td>\n",
       "      <td>friday</td>\n",
       "      <td>2015-07-31</td>\n",
       "      <td>5263.0</td>\n",
       "      <td>555.0</td>\n",
       "      <td>1</td>\n",
       "      <td>1</td>\n",
       "      <td>0</td>\n",
       "      <td>1</td>\n",
       "    </tr>\n",
       "    <tr>\n",
       "      <th>1</th>\n",
       "      <td>2</td>\n",
       "      <td>friday</td>\n",
       "      <td>2015-07-31</td>\n",
       "      <td>6064.0</td>\n",
       "      <td>625.0</td>\n",
       "      <td>1</td>\n",
       "      <td>1</td>\n",
       "      <td>0</td>\n",
       "      <td>1</td>\n",
       "    </tr>\n",
       "    <tr>\n",
       "      <th>2</th>\n",
       "      <td>3</td>\n",
       "      <td>friday</td>\n",
       "      <td>2015-07-31</td>\n",
       "      <td>8314.0</td>\n",
       "      <td>821.0</td>\n",
       "      <td>1</td>\n",
       "      <td>1</td>\n",
       "      <td>0</td>\n",
       "      <td>1</td>\n",
       "    </tr>\n",
       "    <tr>\n",
       "      <th>3</th>\n",
       "      <td>4</td>\n",
       "      <td>friday</td>\n",
       "      <td>2015-07-31</td>\n",
       "      <td>13995.0</td>\n",
       "      <td>1498.0</td>\n",
       "      <td>1</td>\n",
       "      <td>1</td>\n",
       "      <td>0</td>\n",
       "      <td>1</td>\n",
       "    </tr>\n",
       "    <tr>\n",
       "      <th>4</th>\n",
       "      <td>5</td>\n",
       "      <td>friday</td>\n",
       "      <td>2015-07-31</td>\n",
       "      <td>4822.0</td>\n",
       "      <td>559.0</td>\n",
       "      <td>1</td>\n",
       "      <td>1</td>\n",
       "      <td>0</td>\n",
       "      <td>1</td>\n",
       "    </tr>\n",
       "  </tbody>\n",
       "</table>\n",
       "</div>"
      ],
      "text/plain": [
       "  store_id day_of_week        date    sales  customers open promo  \\\n",
       "0        1      friday  2015-07-31   5263.0      555.0    1     1   \n",
       "1        2      friday  2015-07-31   6064.0      625.0    1     1   \n",
       "2        3      friday  2015-07-31   8314.0      821.0    1     1   \n",
       "3        4      friday  2015-07-31  13995.0     1498.0    1     1   \n",
       "4        5      friday  2015-07-31   4822.0      559.0    1     1   \n",
       "\n",
       "  state_holiday school_holiday  \n",
       "0             0              1  \n",
       "1             0              1  \n",
       "2             0              1  \n",
       "3             0              1  \n",
       "4             0              1  "
      ]
     },
     "execution_count": 348,
     "metadata": {},
     "output_type": "execute_result"
    }
   ],
   "source": [
    "temp_df = df.copy()\n",
    "temp_df.day_of_week = (temp_df.day_of_week\n",
    "                              .apply(lambda id: day_of_week_id2name[id]))\n",
    "temp_df.head()"
   ]
  },
  {
   "cell_type": "markdown",
   "metadata": {},
   "source": [
    "This approach has a major drawback: it can't be chained (because of the equal sign). Another annoying thing is that we have to write `temp_df.day_of_week` twice. Duh.   \n",
    "Pandas provides a way to encapsulate this operation in a pipeline: the `assign` method. Its 'signature' could be the following: `assign(col_name=callable)` where `col_name` is the new column to be created (or replaced) and `callable` is a function which takes at least one argument: the dataframe itself.  \n",
    "Let's see how we can use `assign` to achieve our conversion:"
   ]
  },
  {
   "cell_type": "code",
   "execution_count": 349,
   "metadata": {},
   "outputs": [
    {
     "data": {
      "text/html": [
       "<div>\n",
       "<style scoped>\n",
       "    .dataframe tbody tr th:only-of-type {\n",
       "        vertical-align: middle;\n",
       "    }\n",
       "\n",
       "    .dataframe tbody tr th {\n",
       "        vertical-align: top;\n",
       "    }\n",
       "\n",
       "    .dataframe thead th {\n",
       "        text-align: right;\n",
       "    }\n",
       "</style>\n",
       "<table border=\"1\" class=\"dataframe\">\n",
       "  <thead>\n",
       "    <tr style=\"text-align: right;\">\n",
       "      <th></th>\n",
       "      <th>store_id</th>\n",
       "      <th>day_of_week</th>\n",
       "      <th>date</th>\n",
       "      <th>sales</th>\n",
       "      <th>customers</th>\n",
       "      <th>open</th>\n",
       "      <th>promo</th>\n",
       "      <th>state_holiday</th>\n",
       "      <th>school_holiday</th>\n",
       "    </tr>\n",
       "  </thead>\n",
       "  <tbody>\n",
       "    <tr>\n",
       "      <th>0</th>\n",
       "      <td>1</td>\n",
       "      <td>friday</td>\n",
       "      <td>2015-07-31</td>\n",
       "      <td>5263.0</td>\n",
       "      <td>555.0</td>\n",
       "      <td>1</td>\n",
       "      <td>1</td>\n",
       "      <td>0</td>\n",
       "      <td>1</td>\n",
       "    </tr>\n",
       "    <tr>\n",
       "      <th>1</th>\n",
       "      <td>2</td>\n",
       "      <td>friday</td>\n",
       "      <td>2015-07-31</td>\n",
       "      <td>6064.0</td>\n",
       "      <td>625.0</td>\n",
       "      <td>1</td>\n",
       "      <td>1</td>\n",
       "      <td>0</td>\n",
       "      <td>1</td>\n",
       "    </tr>\n",
       "    <tr>\n",
       "      <th>2</th>\n",
       "      <td>3</td>\n",
       "      <td>friday</td>\n",
       "      <td>2015-07-31</td>\n",
       "      <td>8314.0</td>\n",
       "      <td>821.0</td>\n",
       "      <td>1</td>\n",
       "      <td>1</td>\n",
       "      <td>0</td>\n",
       "      <td>1</td>\n",
       "    </tr>\n",
       "    <tr>\n",
       "      <th>3</th>\n",
       "      <td>4</td>\n",
       "      <td>friday</td>\n",
       "      <td>2015-07-31</td>\n",
       "      <td>13995.0</td>\n",
       "      <td>1498.0</td>\n",
       "      <td>1</td>\n",
       "      <td>1</td>\n",
       "      <td>0</td>\n",
       "      <td>1</td>\n",
       "    </tr>\n",
       "    <tr>\n",
       "      <th>4</th>\n",
       "      <td>5</td>\n",
       "      <td>friday</td>\n",
       "      <td>2015-07-31</td>\n",
       "      <td>4822.0</td>\n",
       "      <td>559.0</td>\n",
       "      <td>1</td>\n",
       "      <td>1</td>\n",
       "      <td>0</td>\n",
       "      <td>1</td>\n",
       "    </tr>\n",
       "  </tbody>\n",
       "</table>\n",
       "</div>"
      ],
      "text/plain": [
       "  store_id day_of_week        date    sales  customers open promo  \\\n",
       "0        1      friday  2015-07-31   5263.0      555.0    1     1   \n",
       "1        2      friday  2015-07-31   6064.0      625.0    1     1   \n",
       "2        3      friday  2015-07-31   8314.0      821.0    1     1   \n",
       "3        4      friday  2015-07-31  13995.0     1498.0    1     1   \n",
       "4        5      friday  2015-07-31   4822.0      559.0    1     1   \n",
       "\n",
       "  state_holiday school_holiday  \n",
       "0             0              1  \n",
       "1             0              1  \n",
       "2             0              1  \n",
       "3             0              1  \n",
       "4             0              1  "
      ]
     },
     "execution_count": 349,
     "metadata": {},
     "output_type": "execute_result"
    }
   ],
   "source": [
    "temp_df = (df.copy()\n",
    "             .assign(day_of_week=lambda x: x.day_of_week\n",
    "                                            .apply(lambda id: day_of_week_id2name[id])))\n",
    "temp_df.head()"
   ]
  },
  {
   "cell_type": "markdown",
   "metadata": {},
   "source": [
    "OK. We managed to get our operation in a chained pipeline. But it's quite ugly. A double lambda call, a line that never ends,... By the way, note that in the first `lambda` function, the variable `x` designates the dataframe itself, while in the second `lambda`, it corresponds to the values of the `day_of_week` column. Yes, it's starting to get confusing. But that's actually what I was saying.  Are there any better ways to do this?  \n",
    "And easy one is to abstract one the `lambda` functions in a dedicated, named function:"
   ]
  },
  {
   "cell_type": "code",
   "execution_count": 350,
   "metadata": {},
   "outputs": [
    {
     "data": {
      "text/html": [
       "<div>\n",
       "<style scoped>\n",
       "    .dataframe tbody tr th:only-of-type {\n",
       "        vertical-align: middle;\n",
       "    }\n",
       "\n",
       "    .dataframe tbody tr th {\n",
       "        vertical-align: top;\n",
       "    }\n",
       "\n",
       "    .dataframe thead th {\n",
       "        text-align: right;\n",
       "    }\n",
       "</style>\n",
       "<table border=\"1\" class=\"dataframe\">\n",
       "  <thead>\n",
       "    <tr style=\"text-align: right;\">\n",
       "      <th></th>\n",
       "      <th>store_id</th>\n",
       "      <th>day_of_week</th>\n",
       "      <th>date</th>\n",
       "      <th>sales</th>\n",
       "      <th>customers</th>\n",
       "      <th>open</th>\n",
       "      <th>promo</th>\n",
       "      <th>state_holiday</th>\n",
       "      <th>school_holiday</th>\n",
       "    </tr>\n",
       "  </thead>\n",
       "  <tbody>\n",
       "    <tr>\n",
       "      <th>0</th>\n",
       "      <td>1</td>\n",
       "      <td>friday</td>\n",
       "      <td>2015-07-31</td>\n",
       "      <td>5263.0</td>\n",
       "      <td>555.0</td>\n",
       "      <td>1</td>\n",
       "      <td>1</td>\n",
       "      <td>0</td>\n",
       "      <td>1</td>\n",
       "    </tr>\n",
       "    <tr>\n",
       "      <th>1</th>\n",
       "      <td>2</td>\n",
       "      <td>friday</td>\n",
       "      <td>2015-07-31</td>\n",
       "      <td>6064.0</td>\n",
       "      <td>625.0</td>\n",
       "      <td>1</td>\n",
       "      <td>1</td>\n",
       "      <td>0</td>\n",
       "      <td>1</td>\n",
       "    </tr>\n",
       "    <tr>\n",
       "      <th>2</th>\n",
       "      <td>3</td>\n",
       "      <td>friday</td>\n",
       "      <td>2015-07-31</td>\n",
       "      <td>8314.0</td>\n",
       "      <td>821.0</td>\n",
       "      <td>1</td>\n",
       "      <td>1</td>\n",
       "      <td>0</td>\n",
       "      <td>1</td>\n",
       "    </tr>\n",
       "    <tr>\n",
       "      <th>3</th>\n",
       "      <td>4</td>\n",
       "      <td>friday</td>\n",
       "      <td>2015-07-31</td>\n",
       "      <td>13995.0</td>\n",
       "      <td>1498.0</td>\n",
       "      <td>1</td>\n",
       "      <td>1</td>\n",
       "      <td>0</td>\n",
       "      <td>1</td>\n",
       "    </tr>\n",
       "    <tr>\n",
       "      <th>4</th>\n",
       "      <td>5</td>\n",
       "      <td>friday</td>\n",
       "      <td>2015-07-31</td>\n",
       "      <td>4822.0</td>\n",
       "      <td>559.0</td>\n",
       "      <td>1</td>\n",
       "      <td>1</td>\n",
       "      <td>0</td>\n",
       "      <td>1</td>\n",
       "    </tr>\n",
       "  </tbody>\n",
       "</table>\n",
       "</div>"
      ],
      "text/plain": [
       "  store_id day_of_week        date    sales  customers open promo  \\\n",
       "0        1      friday  2015-07-31   5263.0      555.0    1     1   \n",
       "1        2      friday  2015-07-31   6064.0      625.0    1     1   \n",
       "2        3      friday  2015-07-31   8314.0      821.0    1     1   \n",
       "3        4      friday  2015-07-31  13995.0     1498.0    1     1   \n",
       "4        5      friday  2015-07-31   4822.0      559.0    1     1   \n",
       "\n",
       "  state_holiday school_holiday  \n",
       "0             0              1  \n",
       "1             0              1  \n",
       "2             0              1  \n",
       "3             0              1  \n",
       "4             0              1  "
      ]
     },
     "execution_count": 350,
     "metadata": {},
     "output_type": "execute_result"
    }
   ],
   "source": [
    "def fn_day_of_week_id2name(id):\n",
    "    return day_of_week_id2name[id]\n",
    "\n",
    "temp_df = (df.copy()\n",
    "             .assign(day_of_week=lambda x: x.day_of_week\n",
    "                                            .apply(fn_day_of_week_id2name)))\n",
    "temp_df.head()"
   ]
  },
  {
   "cell_type": "markdown",
   "metadata": {},
   "source": [
    "It's *better*. As far as I'm concerned, I think I'd be happy with it. But I'll show you another way as a pretext to introduce the `pipe` method.   \n",
    "Let's say that you actually **need** to write a complicated function that can't be written using only Pandas methods. Or just like right now, you want to abstract some instructions to make the code cleaner. Then you can use the `pipe` method which is a sort of cheat in this case. `pipe` takes as input the dataframe and is supposed to return an altered dataframe. That's all. The altered dataframe can be anything you want!  \n",
    "In our case, it enables us to use the instruction with the equal sign:"
   ]
  },
  {
   "cell_type": "code",
   "execution_count": 352,
   "metadata": {},
   "outputs": [
    {
     "data": {
      "text/html": [
       "<div>\n",
       "<style scoped>\n",
       "    .dataframe tbody tr th:only-of-type {\n",
       "        vertical-align: middle;\n",
       "    }\n",
       "\n",
       "    .dataframe tbody tr th {\n",
       "        vertical-align: top;\n",
       "    }\n",
       "\n",
       "    .dataframe thead th {\n",
       "        text-align: right;\n",
       "    }\n",
       "</style>\n",
       "<table border=\"1\" class=\"dataframe\">\n",
       "  <thead>\n",
       "    <tr style=\"text-align: right;\">\n",
       "      <th></th>\n",
       "      <th>store_id</th>\n",
       "      <th>day_of_week</th>\n",
       "      <th>date</th>\n",
       "      <th>sales</th>\n",
       "      <th>customers</th>\n",
       "      <th>open</th>\n",
       "      <th>promo</th>\n",
       "      <th>state_holiday</th>\n",
       "      <th>school_holiday</th>\n",
       "    </tr>\n",
       "  </thead>\n",
       "  <tbody>\n",
       "    <tr>\n",
       "      <th>0</th>\n",
       "      <td>1</td>\n",
       "      <td>friday</td>\n",
       "      <td>2015-07-31</td>\n",
       "      <td>5263.0</td>\n",
       "      <td>555.0</td>\n",
       "      <td>1</td>\n",
       "      <td>1</td>\n",
       "      <td>0</td>\n",
       "      <td>1</td>\n",
       "    </tr>\n",
       "    <tr>\n",
       "      <th>1</th>\n",
       "      <td>2</td>\n",
       "      <td>friday</td>\n",
       "      <td>2015-07-31</td>\n",
       "      <td>6064.0</td>\n",
       "      <td>625.0</td>\n",
       "      <td>1</td>\n",
       "      <td>1</td>\n",
       "      <td>0</td>\n",
       "      <td>1</td>\n",
       "    </tr>\n",
       "    <tr>\n",
       "      <th>2</th>\n",
       "      <td>3</td>\n",
       "      <td>friday</td>\n",
       "      <td>2015-07-31</td>\n",
       "      <td>8314.0</td>\n",
       "      <td>821.0</td>\n",
       "      <td>1</td>\n",
       "      <td>1</td>\n",
       "      <td>0</td>\n",
       "      <td>1</td>\n",
       "    </tr>\n",
       "    <tr>\n",
       "      <th>3</th>\n",
       "      <td>4</td>\n",
       "      <td>friday</td>\n",
       "      <td>2015-07-31</td>\n",
       "      <td>13995.0</td>\n",
       "      <td>1498.0</td>\n",
       "      <td>1</td>\n",
       "      <td>1</td>\n",
       "      <td>0</td>\n",
       "      <td>1</td>\n",
       "    </tr>\n",
       "    <tr>\n",
       "      <th>4</th>\n",
       "      <td>5</td>\n",
       "      <td>friday</td>\n",
       "      <td>2015-07-31</td>\n",
       "      <td>4822.0</td>\n",
       "      <td>559.0</td>\n",
       "      <td>1</td>\n",
       "      <td>1</td>\n",
       "      <td>0</td>\n",
       "      <td>1</td>\n",
       "    </tr>\n",
       "  </tbody>\n",
       "</table>\n",
       "</div>"
      ],
      "text/plain": [
       "  store_id day_of_week        date    sales  customers open promo  \\\n",
       "0        1      friday  2015-07-31   5263.0      555.0    1     1   \n",
       "1        2      friday  2015-07-31   6064.0      625.0    1     1   \n",
       "2        3      friday  2015-07-31   8314.0      821.0    1     1   \n",
       "3        4      friday  2015-07-31  13995.0     1498.0    1     1   \n",
       "4        5      friday  2015-07-31   4822.0      559.0    1     1   \n",
       "\n",
       "  state_holiday school_holiday  \n",
       "0             0              1  \n",
       "1             0              1  \n",
       "2             0              1  \n",
       "3             0              1  \n",
       "4             0              1  "
      ]
     },
     "execution_count": 352,
     "metadata": {},
     "output_type": "execute_result"
    }
   ],
   "source": [
    "def transform_day_of_week_to_str(df):\n",
    "    df = df.copy()\n",
    "    df.day_of_week = (df.day_of_week.apply(fn_day_of_week_id2name)\n",
    "                        .cat.reorder_categories(['monday', 'tuesday', 'wednesday',\n",
    "                                                 'thursday', 'friday', 'saturday',\n",
    "                                                 'sunday'], ordered=True))\n",
    "    return df\n",
    "\n",
    "temp_df = (df.copy()\n",
    "             .pipe(transform_day_of_week_to_str))\n",
    "temp_df.head()"
   ]
  },
  {
   "cell_type": "markdown",
   "metadata": {},
   "source": [
    "Pay special attention to the first line of our `transform_day_of_week_to_str` function: we use ```df = df.copy()```. This is simply because no matter what we do, we don't want to be modifying the original dataframe that was passed to the function. Remember that we said that Pandas never alters the dataframes under-the-hood? That is exactly the contract we are trying to follow here.\n",
    "\n",
    "Let's finally apply this function on our dataframe (and not a copy) and let's move on."
   ]
  },
  {
   "cell_type": "code",
   "execution_count": 353,
   "metadata": {},
   "outputs": [],
   "source": [
    "df = df.pipe(transform_day_of_week_to_str)"
   ]
  },
  {
   "cell_type": "markdown",
   "metadata": {},
   "source": [
    "A special case of `pipe` is when we pass extra arguments. Let's say that I don't like having zeroes and ones in the binary columns. Instead, I want to rename the columns (from `open` to `is_open`) and to convert the values to actual booleans. I can add the column on which I want to perform this operation as an extra argument to `pipe`:"
   ]
  },
  {
   "cell_type": "code",
   "execution_count": 354,
   "metadata": {
    "scrolled": true
   },
   "outputs": [
    {
     "data": {
      "text/html": [
       "<div>\n",
       "<style scoped>\n",
       "    .dataframe tbody tr th:only-of-type {\n",
       "        vertical-align: middle;\n",
       "    }\n",
       "\n",
       "    .dataframe tbody tr th {\n",
       "        vertical-align: top;\n",
       "    }\n",
       "\n",
       "    .dataframe thead th {\n",
       "        text-align: right;\n",
       "    }\n",
       "</style>\n",
       "<table border=\"1\" class=\"dataframe\">\n",
       "  <thead>\n",
       "    <tr style=\"text-align: right;\">\n",
       "      <th></th>\n",
       "      <th>store_id</th>\n",
       "      <th>day_of_week</th>\n",
       "      <th>date</th>\n",
       "      <th>sales</th>\n",
       "      <th>customers</th>\n",
       "      <th>is_open</th>\n",
       "      <th>is_promo</th>\n",
       "      <th>is_state_holiday</th>\n",
       "      <th>is_school_holiday</th>\n",
       "    </tr>\n",
       "  </thead>\n",
       "  <tbody>\n",
       "    <tr>\n",
       "      <th>0</th>\n",
       "      <td>1</td>\n",
       "      <td>friday</td>\n",
       "      <td>2015-07-31</td>\n",
       "      <td>5263.0</td>\n",
       "      <td>555.0</td>\n",
       "      <td>True</td>\n",
       "      <td>True</td>\n",
       "      <td>False</td>\n",
       "      <td>True</td>\n",
       "    </tr>\n",
       "    <tr>\n",
       "      <th>1</th>\n",
       "      <td>2</td>\n",
       "      <td>friday</td>\n",
       "      <td>2015-07-31</td>\n",
       "      <td>6064.0</td>\n",
       "      <td>625.0</td>\n",
       "      <td>True</td>\n",
       "      <td>True</td>\n",
       "      <td>False</td>\n",
       "      <td>True</td>\n",
       "    </tr>\n",
       "    <tr>\n",
       "      <th>2</th>\n",
       "      <td>3</td>\n",
       "      <td>friday</td>\n",
       "      <td>2015-07-31</td>\n",
       "      <td>8314.0</td>\n",
       "      <td>821.0</td>\n",
       "      <td>True</td>\n",
       "      <td>True</td>\n",
       "      <td>False</td>\n",
       "      <td>True</td>\n",
       "    </tr>\n",
       "    <tr>\n",
       "      <th>3</th>\n",
       "      <td>4</td>\n",
       "      <td>friday</td>\n",
       "      <td>2015-07-31</td>\n",
       "      <td>13995.0</td>\n",
       "      <td>1498.0</td>\n",
       "      <td>True</td>\n",
       "      <td>True</td>\n",
       "      <td>False</td>\n",
       "      <td>True</td>\n",
       "    </tr>\n",
       "    <tr>\n",
       "      <th>4</th>\n",
       "      <td>5</td>\n",
       "      <td>friday</td>\n",
       "      <td>2015-07-31</td>\n",
       "      <td>4822.0</td>\n",
       "      <td>559.0</td>\n",
       "      <td>True</td>\n",
       "      <td>True</td>\n",
       "      <td>False</td>\n",
       "      <td>True</td>\n",
       "    </tr>\n",
       "  </tbody>\n",
       "</table>\n",
       "</div>"
      ],
      "text/plain": [
       "  store_id day_of_week        date    sales  customers  is_open  is_promo  \\\n",
       "0        1      friday  2015-07-31   5263.0      555.0     True      True   \n",
       "1        2      friday  2015-07-31   6064.0      625.0     True      True   \n",
       "2        3      friday  2015-07-31   8314.0      821.0     True      True   \n",
       "3        4      friday  2015-07-31  13995.0     1498.0     True      True   \n",
       "4        5      friday  2015-07-31   4822.0      559.0     True      True   \n",
       "\n",
       "   is_state_holiday  is_school_holiday  \n",
       "0             False               True  \n",
       "1             False               True  \n",
       "2             False               True  \n",
       "3             False               True  \n",
       "4             False               True  "
      ]
     },
     "execution_count": 354,
     "metadata": {},
     "output_type": "execute_result"
    }
   ],
   "source": [
    "def binary_to_boolean(df, column):\n",
    "    df = df.copy()\n",
    "    df[f'is_{column}'] = df[column].apply(lambda x: x == 1)\n",
    "    df = df.drop(columns=column)\n",
    "    df = df.astype({f'is_{column}': bool})\n",
    "    return df\n",
    "\n",
    "df = (df.pipe(binary_to_boolean, 'open')\n",
    "        .pipe(binary_to_boolean, 'promo')\n",
    "        .pipe(binary_to_boolean, 'state_holiday')\n",
    "        .pipe(binary_to_boolean, 'school_holiday'))\n",
    "\n",
    "df.head()"
   ]
  },
  {
   "cell_type": "markdown",
   "metadata": {},
   "source": [
    "Let's appreciate this work: see how easy it becomes to read a query:"
   ]
  },
  {
   "cell_type": "code",
   "execution_count": 355,
   "metadata": {
    "scrolled": true
   },
   "outputs": [
    {
     "data": {
      "text/html": [
       "<div>\n",
       "<style scoped>\n",
       "    .dataframe tbody tr th:only-of-type {\n",
       "        vertical-align: middle;\n",
       "    }\n",
       "\n",
       "    .dataframe tbody tr th {\n",
       "        vertical-align: top;\n",
       "    }\n",
       "\n",
       "    .dataframe thead th {\n",
       "        text-align: right;\n",
       "    }\n",
       "</style>\n",
       "<table border=\"1\" class=\"dataframe\">\n",
       "  <thead>\n",
       "    <tr style=\"text-align: right;\">\n",
       "      <th></th>\n",
       "      <th>store_id</th>\n",
       "      <th>day_of_week</th>\n",
       "      <th>date</th>\n",
       "      <th>sales</th>\n",
       "      <th>customers</th>\n",
       "      <th>is_open</th>\n",
       "      <th>is_promo</th>\n",
       "      <th>is_state_holiday</th>\n",
       "      <th>is_school_holiday</th>\n",
       "    </tr>\n",
       "  </thead>\n",
       "  <tbody>\n",
       "    <tr>\n",
       "      <th>129772</th>\n",
       "      <td>433</td>\n",
       "      <td>monday</td>\n",
       "      <td>2015-04-06</td>\n",
       "      <td>960.0</td>\n",
       "      <td>160.0</td>\n",
       "      <td>True</td>\n",
       "      <td>False</td>\n",
       "      <td>False</td>\n",
       "      <td>True</td>\n",
       "    </tr>\n",
       "    <tr>\n",
       "      <th>236537</th>\n",
       "      <td>198</td>\n",
       "      <td>wednesday</td>\n",
       "      <td>2014-12-31</td>\n",
       "      <td>972.0</td>\n",
       "      <td>142.0</td>\n",
       "      <td>True</td>\n",
       "      <td>False</td>\n",
       "      <td>False</td>\n",
       "      <td>True</td>\n",
       "    </tr>\n",
       "    <tr>\n",
       "      <th>237033</th>\n",
       "      <td>786</td>\n",
       "      <td>wednesday</td>\n",
       "      <td>2014-12-31</td>\n",
       "      <td>856.0</td>\n",
       "      <td>134.0</td>\n",
       "      <td>True</td>\n",
       "      <td>False</td>\n",
       "      <td>False</td>\n",
       "      <td>True</td>\n",
       "    </tr>\n",
       "    <tr>\n",
       "      <th>243578</th>\n",
       "      <td>786</td>\n",
       "      <td>wednesday</td>\n",
       "      <td>2014-12-24</td>\n",
       "      <td>908.0</td>\n",
       "      <td>138.0</td>\n",
       "      <td>True</td>\n",
       "      <td>False</td>\n",
       "      <td>False</td>\n",
       "      <td>True</td>\n",
       "    </tr>\n",
       "    <tr>\n",
       "      <th>371831</th>\n",
       "      <td>970</td>\n",
       "      <td>saturday</td>\n",
       "      <td>2014-08-09</td>\n",
       "      <td>876.0</td>\n",
       "      <td>114.0</td>\n",
       "      <td>True</td>\n",
       "      <td>False</td>\n",
       "      <td>False</td>\n",
       "      <td>True</td>\n",
       "    </tr>\n",
       "  </tbody>\n",
       "</table>\n",
       "</div>"
      ],
      "text/plain": [
       "       store_id day_of_week        date  sales  customers  is_open  is_promo  \\\n",
       "129772      433      monday  2015-04-06  960.0      160.0     True     False   \n",
       "236537      198   wednesday  2014-12-31  972.0      142.0     True     False   \n",
       "237033      786   wednesday  2014-12-31  856.0      134.0     True     False   \n",
       "243578      786   wednesday  2014-12-24  908.0      138.0     True     False   \n",
       "371831      970    saturday  2014-08-09  876.0      114.0     True     False   \n",
       "\n",
       "        is_state_holiday  is_school_holiday  \n",
       "129772             False               True  \n",
       "236537             False               True  \n",
       "237033             False               True  \n",
       "243578             False               True  \n",
       "371831             False               True  "
      ]
     },
     "execution_count": 355,
     "metadata": {},
     "output_type": "execute_result"
    }
   ],
   "source": [
    "(df.query('is_school_holiday and 500 < sales < 1_000')\n",
    "   .head())"
   ]
  },
  {
   "cell_type": "markdown",
   "metadata": {},
   "source": [
    "The last step of our cleaning will be to define the `date` column as a datetime column. Having the `date` as a datetime object instead of a str if extremely useful: Pandas can derive for us lots of other useful columns (month, week of the year, day,...) and it provides other extremely handy functions of time series as we will see an example  later."
   ]
  },
  {
   "cell_type": "code",
   "execution_count": 356,
   "metadata": {},
   "outputs": [],
   "source": [
    "df = (df.assign(date=lambda df: pd.to_datetime(df.date,\n",
    "                                               format='%Y-%m-%d')))"
   ]
  },
  {
   "cell_type": "markdown",
   "metadata": {},
   "source": [
    "For instance, to extract the month of a given date:"
   ]
  },
  {
   "cell_type": "code",
   "execution_count": 357,
   "metadata": {
    "scrolled": true
   },
   "outputs": [
    {
     "data": {
      "text/plain": [
       "0    7\n",
       "1    7\n",
       "2    7\n",
       "3    7\n",
       "4    7\n",
       "Name: date, dtype: int64"
      ]
     },
     "execution_count": 357,
     "metadata": {},
     "output_type": "execute_result"
    }
   ],
   "source": [
    "(df.date\n",
    "   .dt.month\n",
    "   .head())"
   ]
  },
  {
   "cell_type": "markdown",
   "metadata": {},
   "source": [
    "This formulation can be used in queries as well. Let's say that we want the Wednesdays of November where sales were above $10,000:"
   ]
  },
  {
   "cell_type": "code",
   "execution_count": 358,
   "metadata": {
    "scrolled": true
   },
   "outputs": [
    {
     "data": {
      "text/html": [
       "<div>\n",
       "<style scoped>\n",
       "    .dataframe tbody tr th:only-of-type {\n",
       "        vertical-align: middle;\n",
       "    }\n",
       "\n",
       "    .dataframe tbody tr th {\n",
       "        vertical-align: top;\n",
       "    }\n",
       "\n",
       "    .dataframe thead th {\n",
       "        text-align: right;\n",
       "    }\n",
       "</style>\n",
       "<table border=\"1\" class=\"dataframe\">\n",
       "  <thead>\n",
       "    <tr style=\"text-align: right;\">\n",
       "      <th></th>\n",
       "      <th>store_id</th>\n",
       "      <th>day_of_week</th>\n",
       "      <th>date</th>\n",
       "      <th>sales</th>\n",
       "      <th>customers</th>\n",
       "      <th>is_open</th>\n",
       "      <th>is_promo</th>\n",
       "      <th>is_state_holiday</th>\n",
       "      <th>is_school_holiday</th>\n",
       "    </tr>\n",
       "  </thead>\n",
       "  <tbody>\n",
       "    <tr>\n",
       "      <th>269108</th>\n",
       "      <td>4</td>\n",
       "      <td>wednesday</td>\n",
       "      <td>2014-11-26</td>\n",
       "      <td>10083.0</td>\n",
       "      <td>1291.0</td>\n",
       "      <td>True</td>\n",
       "      <td>True</td>\n",
       "      <td>False</td>\n",
       "      <td>False</td>\n",
       "    </tr>\n",
       "    <tr>\n",
       "      <th>269111</th>\n",
       "      <td>7</td>\n",
       "      <td>wednesday</td>\n",
       "      <td>2014-11-26</td>\n",
       "      <td>10756.0</td>\n",
       "      <td>1002.0</td>\n",
       "      <td>True</td>\n",
       "      <td>True</td>\n",
       "      <td>False</td>\n",
       "      <td>False</td>\n",
       "    </tr>\n",
       "    <tr>\n",
       "      <th>269115</th>\n",
       "      <td>11</td>\n",
       "      <td>wednesday</td>\n",
       "      <td>2014-11-26</td>\n",
       "      <td>11103.0</td>\n",
       "      <td>1428.0</td>\n",
       "      <td>True</td>\n",
       "      <td>True</td>\n",
       "      <td>False</td>\n",
       "      <td>False</td>\n",
       "    </tr>\n",
       "    <tr>\n",
       "      <th>269116</th>\n",
       "      <td>12</td>\n",
       "      <td>wednesday</td>\n",
       "      <td>2014-11-26</td>\n",
       "      <td>10070.0</td>\n",
       "      <td>1107.0</td>\n",
       "      <td>True</td>\n",
       "      <td>True</td>\n",
       "      <td>False</td>\n",
       "      <td>False</td>\n",
       "    </tr>\n",
       "    <tr>\n",
       "      <th>269125</th>\n",
       "      <td>24</td>\n",
       "      <td>wednesday</td>\n",
       "      <td>2014-11-26</td>\n",
       "      <td>10490.0</td>\n",
       "      <td>913.0</td>\n",
       "      <td>True</td>\n",
       "      <td>True</td>\n",
       "      <td>False</td>\n",
       "      <td>False</td>\n",
       "    </tr>\n",
       "  </tbody>\n",
       "</table>\n",
       "</div>"
      ],
      "text/plain": [
       "       store_id day_of_week       date    sales  customers  is_open  is_promo  \\\n",
       "269108        4   wednesday 2014-11-26  10083.0     1291.0     True      True   \n",
       "269111        7   wednesday 2014-11-26  10756.0     1002.0     True      True   \n",
       "269115       11   wednesday 2014-11-26  11103.0     1428.0     True      True   \n",
       "269116       12   wednesday 2014-11-26  10070.0     1107.0     True      True   \n",
       "269125       24   wednesday 2014-11-26  10490.0      913.0     True      True   \n",
       "\n",
       "        is_state_holiday  is_school_holiday  \n",
       "269108             False              False  \n",
       "269111             False              False  \n",
       "269115             False              False  \n",
       "269116             False              False  \n",
       "269125             False              False  "
      ]
     },
     "execution_count": 358,
     "metadata": {},
     "output_type": "execute_result"
    }
   ],
   "source": [
    "(df.query('date.dt.month == 11 and '\n",
    "         'day_of_week == \"wednesday\" and '\n",
    "         'sales > 10_000')\n",
    "   .head())"
   ]
  },
  {
   "cell_type": "markdown",
   "metadata": {},
   "source": [
    "## Final preprocessing pipeline\n",
    "\n",
    "Beautiful! We have seen how rename and cast columns; how to create new columns or modify old ones by using an external function on the values of the columns. We also have had a glimpse of the power of timeseries with Pandas. Let's wrap this section up by providing a final pipeline: from start to finish."
   ]
  },
  {
   "cell_type": "code",
   "execution_count": 420,
   "metadata": {
    "scrolled": true
   },
   "outputs": [
    {
     "data": {
      "text/html": [
       "<div>\n",
       "<style scoped>\n",
       "    .dataframe tbody tr th:only-of-type {\n",
       "        vertical-align: middle;\n",
       "    }\n",
       "\n",
       "    .dataframe tbody tr th {\n",
       "        vertical-align: top;\n",
       "    }\n",
       "\n",
       "    .dataframe thead th {\n",
       "        text-align: right;\n",
       "    }\n",
       "</style>\n",
       "<table border=\"1\" class=\"dataframe\">\n",
       "  <thead>\n",
       "    <tr style=\"text-align: right;\">\n",
       "      <th></th>\n",
       "      <th>store_id</th>\n",
       "      <th>day_of_week</th>\n",
       "      <th>date</th>\n",
       "      <th>sales</th>\n",
       "      <th>customers</th>\n",
       "      <th>is_open</th>\n",
       "      <th>is_promo</th>\n",
       "      <th>is_state_holiday</th>\n",
       "      <th>is_school_holiday</th>\n",
       "    </tr>\n",
       "  </thead>\n",
       "  <tbody>\n",
       "    <tr>\n",
       "      <th>0</th>\n",
       "      <td>1</td>\n",
       "      <td>friday</td>\n",
       "      <td>2015-07-31</td>\n",
       "      <td>5263.0</td>\n",
       "      <td>555.0</td>\n",
       "      <td>True</td>\n",
       "      <td>True</td>\n",
       "      <td>False</td>\n",
       "      <td>True</td>\n",
       "    </tr>\n",
       "    <tr>\n",
       "      <th>1</th>\n",
       "      <td>2</td>\n",
       "      <td>friday</td>\n",
       "      <td>2015-07-31</td>\n",
       "      <td>6064.0</td>\n",
       "      <td>625.0</td>\n",
       "      <td>True</td>\n",
       "      <td>True</td>\n",
       "      <td>False</td>\n",
       "      <td>True</td>\n",
       "    </tr>\n",
       "    <tr>\n",
       "      <th>2</th>\n",
       "      <td>3</td>\n",
       "      <td>friday</td>\n",
       "      <td>2015-07-31</td>\n",
       "      <td>8314.0</td>\n",
       "      <td>821.0</td>\n",
       "      <td>True</td>\n",
       "      <td>True</td>\n",
       "      <td>False</td>\n",
       "      <td>True</td>\n",
       "    </tr>\n",
       "    <tr>\n",
       "      <th>3</th>\n",
       "      <td>4</td>\n",
       "      <td>friday</td>\n",
       "      <td>2015-07-31</td>\n",
       "      <td>13995.0</td>\n",
       "      <td>1498.0</td>\n",
       "      <td>True</td>\n",
       "      <td>True</td>\n",
       "      <td>False</td>\n",
       "      <td>True</td>\n",
       "    </tr>\n",
       "    <tr>\n",
       "      <th>4</th>\n",
       "      <td>5</td>\n",
       "      <td>friday</td>\n",
       "      <td>2015-07-31</td>\n",
       "      <td>4822.0</td>\n",
       "      <td>559.0</td>\n",
       "      <td>True</td>\n",
       "      <td>True</td>\n",
       "      <td>False</td>\n",
       "      <td>True</td>\n",
       "    </tr>\n",
       "  </tbody>\n",
       "</table>\n",
       "</div>"
      ],
      "text/plain": [
       "  store_id day_of_week       date    sales  customers  is_open  is_promo  \\\n",
       "0        1      friday 2015-07-31   5263.0      555.0     True      True   \n",
       "1        2      friday 2015-07-31   6064.0      625.0     True      True   \n",
       "2        3      friday 2015-07-31   8314.0      821.0     True      True   \n",
       "3        4      friday 2015-07-31  13995.0     1498.0     True      True   \n",
       "4        5      friday 2015-07-31   4822.0      559.0     True      True   \n",
       "\n",
       "   is_state_holiday  is_school_holiday  \n",
       "0             False               True  \n",
       "1             False               True  \n",
       "2             False               True  \n",
       "3             False               True  \n",
       "4             False               True  "
      ]
     },
     "execution_count": 420,
     "metadata": {},
     "output_type": "execute_result"
    }
   ],
   "source": [
    "df = (pd.read_csv('rossman/sales.csv', dtype={'StateHoliday': 'str'})\n",
    "        # Renaming columns.\n",
    "        .rename(columns=camel_to_snake)\n",
    "        .rename(columns={'store': 'store_id'})\n",
    "        # Changing the dtype.\n",
    "        .astype(dict(store_id='str',\n",
    "                     day_of_week='category',\n",
    "                     sales=np.float32,\n",
    "                     customers=np.float32,\n",
    "                     open='category',\n",
    "                     promo='category',\n",
    "                     state_holiday='category',\n",
    "                     school_holiday='category'))\n",
    "        # Changing from '1', '2', to 'monday', 'tuesday'\n",
    "        .pipe(transform_day_of_week_to_str)\n",
    "        # Forcing the conversion to bool and renaming the columns.\n",
    "        .pipe(binary_to_boolean, 'open')\n",
    "        .pipe(binary_to_boolean, 'promo')\n",
    "        .pipe(binary_to_boolean, 'state_holiday')\n",
    "        .pipe(binary_to_boolean, 'school_holiday')\n",
    "        # datetime dtype on the `date` column.\n",
    "        .assign(date=lambda df: pd.to_datetime(df.date,\n",
    "                                               format='%Y-%m-%d')))\n",
    "\n",
    "df.head()"
   ]
  },
  {
   "cell_type": "markdown",
   "metadata": {},
   "source": [
    "## Data exploration with matplotlib and seaborn\n",
    "\n",
    "This section is a bit of a bonus. But actually, cleaning and ordering the data is the the boring part and exploration is a fun one. Although as I said earlier, if you feel satisfaction of seing your house clean, you'll feel satisfaction of seeing your dataset clean. In which case data cleaning can also be enjoyable to some extent.  \n",
    "\n",
    "We will now be using [seaborn](https://seaborn.pydata.org/index.html), a data visualisation library to be used in conjonction with Pandas. Here you will see that once the dataset is tidy, it becomes easier to obtain the desired graphs.   \n",
    "Making meaningful, insightful and easy-to-read graphs is a job by itself and I have certainly no pretention in mastering this craft! So I'll just show you a few examples of what you can do by combining the power of pandas and seaborn.  \n",
    "\n",
    "First of all, is there a day of the week where most of sales occur? Or conversely, is there a day where sales occur less often?"
   ]
  },
  {
   "cell_type": "code",
   "execution_count": 423,
   "metadata": {
    "scrolled": false
   },
   "outputs": [
    {
     "data": {
      "text/plain": [
       "<matplotlib.axes._subplots.AxesSubplot at 0x7f66fdb2fef0>"
      ]
     },
     "execution_count": 423,
     "metadata": {},
     "output_type": "execute_result"
    },
    {
     "data": {
      "image/png": "[encoded data removed]",
      "text/plain": [
       "<matplotlib.figure.Figure at 0x7f65f49b56d8>"
      ]
     },
     "metadata": {},
     "output_type": "display_data"
    }
   ],
   "source": [
    "sns.boxplot(x='day_of_week',\n",
    "            y='sales',\n",
    "            data=df)"
   ]
  },
  {
   "cell_type": "markdown",
   "metadata": {},
   "source": [
    "The median is relatively stable across the days. Mondays seem to be the days with most variability. It could interesting to find a potential reason for this later. Note also the long tail of high percentiles which indicate that there are some special days where sales are exceptionally high (probably holidays ot special events). On the other hand, a somewhat non-negligeable part of sales are at zero. Finally, observe that the vast majority of sales spent on Sundays are null which some exceptions. We could think that it is because stores are closed a majority of Sundays with some exceptions. Let's see:"
   ]
  },
  {
   "cell_type": "code",
   "execution_count": 362,
   "metadata": {},
   "outputs": [
    {
     "data": {
      "text/plain": [
       "day_of_week\n",
       "monday       137560.0\n",
       "tuesday      143961.0\n",
       "wednesday    141936.0\n",
       "thursday     134644.0\n",
       "friday       138640.0\n",
       "saturday     144058.0\n",
       "sunday         3593.0\n",
       "Name: is_open, dtype: float64"
      ]
     },
     "execution_count": 362,
     "metadata": {},
     "output_type": "execute_result"
    }
   ],
   "source": [
    "# Computing the number of times a store opened, per week day.\n",
    "(df.groupby('day_of_week')\n",
    "  .is_open\n",
    "  .sum())"
   ]
  },
  {
   "cell_type": "markdown",
   "metadata": {},
   "source": [
    "As it turns out, stores opened on a Monday-Saturday approximately 40 times more often than on Sundays! Regarding the days where nothing was sold, let's try to understand what happened."
   ]
  },
  {
   "cell_type": "code",
   "execution_count": 367,
   "metadata": {},
   "outputs": [
    {
     "data": {
      "text/html": [
       "<div>\n",
       "<style scoped>\n",
       "    .dataframe tbody tr th:only-of-type {\n",
       "        vertical-align: middle;\n",
       "    }\n",
       "\n",
       "    .dataframe tbody tr th {\n",
       "        vertical-align: top;\n",
       "    }\n",
       "\n",
       "    .dataframe thead th {\n",
       "        text-align: right;\n",
       "    }\n",
       "</style>\n",
       "<table border=\"1\" class=\"dataframe\">\n",
       "  <thead>\n",
       "    <tr style=\"text-align: right;\">\n",
       "      <th></th>\n",
       "      <th>store_id</th>\n",
       "      <th>day_of_week</th>\n",
       "      <th>date</th>\n",
       "      <th>sales</th>\n",
       "      <th>customers</th>\n",
       "      <th>is_open</th>\n",
       "      <th>is_promo</th>\n",
       "      <th>is_state_holiday</th>\n",
       "      <th>is_school_holiday</th>\n",
       "    </tr>\n",
       "  </thead>\n",
       "  <tbody>\n",
       "    <tr>\n",
       "      <th>64140</th>\n",
       "      <td>586</td>\n",
       "      <td>thursday</td>\n",
       "      <td>2015-06-04</td>\n",
       "      <td>0.0</td>\n",
       "      <td>0.0</td>\n",
       "      <td>False</td>\n",
       "      <td>True</td>\n",
       "      <td>False</td>\n",
       "      <td>False</td>\n",
       "    </tr>\n",
       "    <tr>\n",
       "      <th>129600</th>\n",
       "      <td>261</td>\n",
       "      <td>monday</td>\n",
       "      <td>2015-04-06</td>\n",
       "      <td>0.0</td>\n",
       "      <td>0.0</td>\n",
       "      <td>False</td>\n",
       "      <td>False</td>\n",
       "      <td>False</td>\n",
       "      <td>True</td>\n",
       "    </tr>\n",
       "    <tr>\n",
       "      <th>75776</th>\n",
       "      <td>1072</td>\n",
       "      <td>monday</td>\n",
       "      <td>2015-05-25</td>\n",
       "      <td>0.0</td>\n",
       "      <td>0.0</td>\n",
       "      <td>False</td>\n",
       "      <td>False</td>\n",
       "      <td>False</td>\n",
       "      <td>False</td>\n",
       "    </tr>\n",
       "    <tr>\n",
       "      <th>617363</th>\n",
       "      <td>439</td>\n",
       "      <td>wednesday</td>\n",
       "      <td>2013-12-25</td>\n",
       "      <td>0.0</td>\n",
       "      <td>0.0</td>\n",
       "      <td>False</td>\n",
       "      <td>False</td>\n",
       "      <td>False</td>\n",
       "      <td>True</td>\n",
       "    </tr>\n",
       "    <tr>\n",
       "      <th>75713</th>\n",
       "      <td>1009</td>\n",
       "      <td>monday</td>\n",
       "      <td>2015-05-25</td>\n",
       "      <td>0.0</td>\n",
       "      <td>0.0</td>\n",
       "      <td>False</td>\n",
       "      <td>False</td>\n",
       "      <td>False</td>\n",
       "      <td>False</td>\n",
       "    </tr>\n",
       "  </tbody>\n",
       "</table>\n",
       "</div>"
      ],
      "text/plain": [
       "       store_id day_of_week       date  sales  customers  is_open  is_promo  \\\n",
       "64140       586    thursday 2015-06-04    0.0        0.0    False      True   \n",
       "129600      261      monday 2015-04-06    0.0        0.0    False     False   \n",
       "75776      1072      monday 2015-05-25    0.0        0.0    False     False   \n",
       "617363      439   wednesday 2013-12-25    0.0        0.0    False     False   \n",
       "75713      1009      monday 2015-05-25    0.0        0.0    False     False   \n",
       "\n",
       "        is_state_holiday  is_school_holiday  \n",
       "64140              False              False  \n",
       "129600             False               True  \n",
       "75776              False              False  \n",
       "617363             False               True  \n",
       "75713              False              False  "
      ]
     },
     "execution_count": 367,
     "metadata": {},
     "output_type": "execute_result"
    }
   ],
   "source": [
    "np.random.seed(0)\n",
    "(df.query('sales == 0 and '\n",
    "          'day_of_week != \"sunday\"')\n",
    "    .sample(5))"
   ]
  },
  {
   "cell_type": "markdown",
   "metadata": {},
   "source": [
    "As we could have predict, this corresponds to the days where the stores were closed. Probably for bank holidays for instance. In this small sample that we took, we can see one Christmas day and two 25th of May. A quick Google search shows that it corresponds to Whit Monday (7th Monday after Easter).\n",
    "\n",
    "Days where there are no sales are boring. So we'll try ignore them in the future. Let's see if there's a correlation between number of customers and sales (which we expect!)"
   ]
  },
  {
   "cell_type": "code",
   "execution_count": 368,
   "metadata": {
    "scrolled": false
   },
   "outputs": [
    {
     "data": {
      "text/plain": [
       "<seaborn.axisgrid.JointGrid at 0x7f663572c358>"
      ]
     },
     "execution_count": 368,
     "metadata": {},
     "output_type": "execute_result"
    },
    {
     "data": {
      "image/png": "[encoded data removed]",
      "text/plain": [
       "<matplotlib.figure.Figure at 0x7f663572c0b8>"
      ]
     },
     "metadata": {},
     "output_type": "display_data"
    }
   ],
   "source": [
    "sns.jointplot(x='customers',\n",
    "              y='sales',\n",
    "              data=df.query('sales > 0 and customers > 0'),\n",
    "              kind='hex')"
   ]
  },
  {
   "cell_type": "markdown",
   "metadata": {},
   "source": [
    "It seems there's almost a linear law linking the sales and the number of customers if we ignore the long tail of exceptional sales. This is somewhat intuitive. We could run a linear regression on this data and get the R score. Although this wouldn't have much interest in practice. All this says is that one can potentially increase her sales by bringing more people to the store. Massive discovery!   \n",
    "If we wanted to do predictive modelling, using the `customers` variable is risky because we don't have it in practice. Although it can potentially be easier to predict the number of customers who come to a store and the sales themselves.\n",
    "\n",
    "Now, let's try to understand the long tail of sales we observed in the previous plot. When does it happen? We will now use a few functions of Pandas we haven't used so far.   \n",
    "First: `set_index` converts one column of the dataframe to be **the** index of the dataframe. If you don't remember what indexes are, it might be a good idea to go up a few cells and have another read. In a nutshell, it's what determines what the `.loc` method will be based on. It also puts an important assertion on the use we will have of the dataset. In the following example, we will set the date to be the index; which means that observation in the dataframe is based on a time index. It's not about week_of_day anymore, or store_id, but by date!  \n",
    "Later, we use `reset_index` to cancel the action of `set_index`. This is required by seaborn which plots *columns* and not indexes. I wish I could have kept the index as is though!  \n",
    "The other important function is `resample`. `resample` assumes that we are working with time series. It is an extremely convenient function! Let's say that I want to plot the average sales on a weekly basis. Or a daily basis. Or 3 days basis. Or 2 months basis. We could manage to do that all by ourselves but it could be a bit cumbersome. `resample` groups the data for us. We follow by an operation to get the average sales **per week** and we plot the result."
   ]
  },
  {
   "cell_type": "code",
   "execution_count": 375,
   "metadata": {
    "scrolled": false
   },
   "outputs": [
    {
     "data": {
      "text/plain": [
       "<matplotlib.axes._subplots.AxesSubplot at 0x7f6638b069e8>"
      ]
     },
     "execution_count": 375,
     "metadata": {},
     "output_type": "execute_result"
    },
    {
     "data": {
      "image/png": "[encoded data removed]",
      "text/plain": [
       "<matplotlib.figure.Figure at 0x7f6638b27b70>"
      ]
     },
     "metadata": {},
     "output_type": "display_data"
    }
   ],
   "source": [
    "sns.lineplot(x='date',\n",
    "             y='sales',\n",
    "             data=df.set_index('date')\n",
    "                    .resample('W')\n",
    "                    .mean()  # Computes the weekly average of every column in the df.\n",
    "                    .reset_index())"
   ]
  },
  {
   "cell_type": "markdown",
   "metadata": {},
   "source": [
    "Interestingly, we observe peaks of sales around December each year. I wonder what's happening here... This type of observation, called *seasonalities* is common when studying time series. It could also be interesting to check if those stores have an equivalent of a Black Friday but I'll leave this as an exercise."
   ]
  },
  {
   "cell_type": "code",
   "execution_count": null,
   "metadata": {},
   "outputs": [],
   "source": [
    "# Add more stuff regarding time series (using better aggregate than just the mean.)"
   ]
  },
  {
   "cell_type": "markdown",
   "metadata": {},
   "source": [
    "So far we focused on broad view of what happened on average in every store. We saw that there were seasonality trends and that if we were to build a predictive model, we should incorporate them somehow.  \n",
    "I'm now formulating an hypothesis: there is some *outlier* stores. Or in other words, I assume that there are stores which have a very distinct number of sales on average (either very low or very high). Let's verify this by plotting the sales vs the number of customers, as we have done before. But this time, let's have a look at the whole picture.   \n",
    "I am grouping based on every store and plotting the average sales and average customers in each."
   ]
  },
  {
   "cell_type": "code",
   "execution_count": 377,
   "metadata": {
    "scrolled": false
   },
   "outputs": [
    {
     "data": {
      "text/plain": [
       "<matplotlib.axes._subplots.AxesSubplot at 0x7f6638b00ac8>"
      ]
     },
     "execution_count": 377,
     "metadata": {},
     "output_type": "execute_result"
    },
    {
     "data": {
      "image/png": "[encoded data removed]",
      "text/plain": [
       "<matplotlib.figure.Figure at 0x7f6638b222e8>"
      ]
     },
     "metadata": {},
     "output_type": "display_data"
    }
   ],
   "source": [
    "sns.scatterplot(x='customers',\n",
    "                y='sales',\n",
    "                data=df.groupby('store_id')\n",
    "                       .mean())"
   ]
  },
  {
   "cell_type": "markdown",
   "metadata": {},
   "source": [
    "We observe a bunch of stores that we will call 'normal' which follow a somewhat linear relationship between number of customers and number of sales as we saw before. These are stores with daily sales between $2,500 and $8,000 and daily number of customers between 250 and 1,000.  All the others seem to follow a slightly different law.  \n",
    "Why is there such a difference in the 'normal' stores and the 'outlier' stores? Where does the difference come from? We could formulate some hypothesis, such as:  \n",
    "- sales are, on average throughout the year, significatively higher in outlier stores than in normal stores\n",
    "- the effect of seasonality in outlier stores is much more noticeable than in normal stores.  \n",
    "\n",
    "In the following, we will index based on the `store_id`. This makes sense since we are conducting an analysis based on each individual store (see again how the definition of the dataframe changes based on our needs). We will obtain the store ID of both a normal store and outlier store and we will plot their weekly sales."
   ]
  },
  {
   "cell_type": "code",
   "execution_count": 378,
   "metadata": {
    "scrolled": false
   },
   "outputs": [
    {
     "data": {
      "text/plain": [
       "<matplotlib.axes._subplots.AxesSubplot at 0x7f66389dc1d0>"
      ]
     },
     "execution_count": 378,
     "metadata": {},
     "output_type": "execute_result"
    },
    {
     "data": {
      "image/png": "[encoded data removed]",
      "text/plain": [
       "<matplotlib.figure.Figure at 0x7f66389cc710>"
      ]
     },
     "metadata": {},
     "output_type": "display_data"
    }
   ],
   "source": [
    "np.random.seed(0)\n",
    "store_id_standard = (df.groupby('store_id')\n",
    "                       .mean()\n",
    "                       .query('500 <= customers <= 750 and 5_000 <= sales <= 7_000')\n",
    "                       .sample()\n",
    "                       .index[0])\n",
    "\n",
    "store_id_outlier = (df.groupby('store_id')\n",
    "                      .mean()\n",
    "                      .query('1_500 <= customers and 10_000 <= sales')\n",
    "                      .sample()\n",
    "                      .index[0])\n",
    "\n",
    "sns.lineplot(x='date',\n",
    "             y='sales',\n",
    "             hue='store_id',\n",
    "             data=df.set_index('store_id')\n",
    "                    .loc[[store_id_standard, store_id_outlier]]\n",
    "                    .reset_index()\n",
    "                    # Currently, seaborn has a bug where it tries to convert\n",
    "                    # the 'hue' color value to int. In this case, it will\n",
    "                    # be successful but undesired. So we harden the string 'store_id'.\n",
    "                    .assign(store_id=lambda df: 'id_' + df.store_id)\n",
    "                    .groupby('store_id')\n",
    "                    .resample('W', on='date')\n",
    "                    .mean()\n",
    "                    .reset_index())"
   ]
  },
  {
   "cell_type": "markdown",
   "metadata": {},
   "source": [
    "Based on only 2 stores, it looks like both of our hypothese apply: it's a mixture of overall better sales but the seasonality of the outlier store also appears to be more significant. Further analysis could determine by how much Christmas sales diverge from normal sales. And if this divergence is linked to the average level of sales during the year (e.g: the higher the average sales, the bigger the divergence). "
   ]
  },
  {
   "cell_type": "markdown",
   "metadata": {},
   "source": [
    "# Further reading\n",
    "\n",
    "- [Python for Data Analysis](http://shop.oreilly.com/product/0636920023784.do) (O'Reilly) by Wes McKinney (Pandas' main author).\n",
    "- The series of [Modern Pandas](https://tomaugspurger.github.io/modern-1-intro.html) blog post by Tom Augspurger.\n",
    "- Any talk on Pandas at PyData (available on Youtube); (Marc Garcia, Jeff Reback,...)"
   ]
  },
  {
   "cell_type": "markdown",
   "metadata": {},
   "source": [
    "### --- Undocumented ---"
   ]
  },
  {
   "cell_type": "code",
   "execution_count": 379,
   "metadata": {
    "scrolled": true
   },
   "outputs": [
    {
     "data": {
      "text/html": [
       "<div>\n",
       "<style scoped>\n",
       "    .dataframe tbody tr th:only-of-type {\n",
       "        vertical-align: middle;\n",
       "    }\n",
       "\n",
       "    .dataframe tbody tr th {\n",
       "        vertical-align: top;\n",
       "    }\n",
       "\n",
       "    .dataframe thead th {\n",
       "        text-align: right;\n",
       "    }\n",
       "</style>\n",
       "<table border=\"1\" class=\"dataframe\">\n",
       "  <thead>\n",
       "    <tr style=\"text-align: right;\">\n",
       "      <th></th>\n",
       "      <th>store_id</th>\n",
       "      <th>store_type</th>\n",
       "      <th>assortment</th>\n",
       "      <th>competition_distance</th>\n",
       "      <th>competition_open_since_month</th>\n",
       "      <th>competition_open_since_year</th>\n",
       "      <th>promo2</th>\n",
       "      <th>promo2_since_week</th>\n",
       "      <th>promo2_since_year</th>\n",
       "    </tr>\n",
       "  </thead>\n",
       "  <tbody>\n",
       "    <tr>\n",
       "      <th>0</th>\n",
       "      <td>1</td>\n",
       "      <td>c</td>\n",
       "      <td>a</td>\n",
       "      <td>1270.0</td>\n",
       "      <td>9.0</td>\n",
       "      <td>2008.0</td>\n",
       "      <td>False</td>\n",
       "      <td>NaN</td>\n",
       "      <td>NaN</td>\n",
       "    </tr>\n",
       "    <tr>\n",
       "      <th>1</th>\n",
       "      <td>2</td>\n",
       "      <td>a</td>\n",
       "      <td>a</td>\n",
       "      <td>570.0</td>\n",
       "      <td>11.0</td>\n",
       "      <td>2007.0</td>\n",
       "      <td>True</td>\n",
       "      <td>13.0</td>\n",
       "      <td>2010.0</td>\n",
       "    </tr>\n",
       "    <tr>\n",
       "      <th>2</th>\n",
       "      <td>3</td>\n",
       "      <td>a</td>\n",
       "      <td>a</td>\n",
       "      <td>14130.0</td>\n",
       "      <td>12.0</td>\n",
       "      <td>2006.0</td>\n",
       "      <td>True</td>\n",
       "      <td>14.0</td>\n",
       "      <td>2011.0</td>\n",
       "    </tr>\n",
       "    <tr>\n",
       "      <th>3</th>\n",
       "      <td>4</td>\n",
       "      <td>c</td>\n",
       "      <td>c</td>\n",
       "      <td>620.0</td>\n",
       "      <td>9.0</td>\n",
       "      <td>2009.0</td>\n",
       "      <td>False</td>\n",
       "      <td>NaN</td>\n",
       "      <td>NaN</td>\n",
       "    </tr>\n",
       "    <tr>\n",
       "      <th>4</th>\n",
       "      <td>5</td>\n",
       "      <td>a</td>\n",
       "      <td>a</td>\n",
       "      <td>29910.0</td>\n",
       "      <td>4.0</td>\n",
       "      <td>2015.0</td>\n",
       "      <td>False</td>\n",
       "      <td>NaN</td>\n",
       "      <td>NaN</td>\n",
       "    </tr>\n",
       "    <tr>\n",
       "      <th>5</th>\n",
       "      <td>6</td>\n",
       "      <td>a</td>\n",
       "      <td>a</td>\n",
       "      <td>310.0</td>\n",
       "      <td>12.0</td>\n",
       "      <td>2013.0</td>\n",
       "      <td>False</td>\n",
       "      <td>NaN</td>\n",
       "      <td>NaN</td>\n",
       "    </tr>\n",
       "    <tr>\n",
       "      <th>6</th>\n",
       "      <td>7</td>\n",
       "      <td>a</td>\n",
       "      <td>c</td>\n",
       "      <td>24000.0</td>\n",
       "      <td>4.0</td>\n",
       "      <td>2013.0</td>\n",
       "      <td>False</td>\n",
       "      <td>NaN</td>\n",
       "      <td>NaN</td>\n",
       "    </tr>\n",
       "    <tr>\n",
       "      <th>7</th>\n",
       "      <td>8</td>\n",
       "      <td>a</td>\n",
       "      <td>a</td>\n",
       "      <td>7520.0</td>\n",
       "      <td>10.0</td>\n",
       "      <td>2014.0</td>\n",
       "      <td>False</td>\n",
       "      <td>NaN</td>\n",
       "      <td>NaN</td>\n",
       "    </tr>\n",
       "    <tr>\n",
       "      <th>8</th>\n",
       "      <td>9</td>\n",
       "      <td>a</td>\n",
       "      <td>c</td>\n",
       "      <td>2030.0</td>\n",
       "      <td>8.0</td>\n",
       "      <td>2000.0</td>\n",
       "      <td>False</td>\n",
       "      <td>NaN</td>\n",
       "      <td>NaN</td>\n",
       "    </tr>\n",
       "    <tr>\n",
       "      <th>9</th>\n",
       "      <td>10</td>\n",
       "      <td>a</td>\n",
       "      <td>a</td>\n",
       "      <td>3160.0</td>\n",
       "      <td>9.0</td>\n",
       "      <td>2009.0</td>\n",
       "      <td>False</td>\n",
       "      <td>NaN</td>\n",
       "      <td>NaN</td>\n",
       "    </tr>\n",
       "  </tbody>\n",
       "</table>\n",
       "</div>"
      ],
      "text/plain": [
       "  store_id store_type assortment  competition_distance  \\\n",
       "0        1          c          a                1270.0   \n",
       "1        2          a          a                 570.0   \n",
       "2        3          a          a               14130.0   \n",
       "3        4          c          c                 620.0   \n",
       "4        5          a          a               29910.0   \n",
       "5        6          a          a                 310.0   \n",
       "6        7          a          c               24000.0   \n",
       "7        8          a          a                7520.0   \n",
       "8        9          a          c                2030.0   \n",
       "9       10          a          a                3160.0   \n",
       "\n",
       "  competition_open_since_month  competition_open_since_year  promo2  \\\n",
       "0                          9.0                       2008.0   False   \n",
       "1                         11.0                       2007.0    True   \n",
       "2                         12.0                       2006.0    True   \n",
       "3                          9.0                       2009.0   False   \n",
       "4                          4.0                       2015.0   False   \n",
       "5                         12.0                       2013.0   False   \n",
       "6                          4.0                       2013.0   False   \n",
       "7                         10.0                       2014.0   False   \n",
       "8                          8.0                       2000.0   False   \n",
       "9                          9.0                       2009.0   False   \n",
       "\n",
       "   promo2_since_week  promo2_since_year  \n",
       "0                NaN                NaN  \n",
       "1               13.0             2010.0  \n",
       "2               14.0             2011.0  \n",
       "3                NaN                NaN  \n",
       "4                NaN                NaN  \n",
       "5                NaN                NaN  \n",
       "6                NaN                NaN  \n",
       "7                NaN                NaN  \n",
       "8                NaN                NaN  \n",
       "9                NaN                NaN  "
      ]
     },
     "execution_count": 379,
     "metadata": {},
     "output_type": "execute_result"
    }
   ],
   "source": [
    "def to_numeric(df, column_name):\n",
    "    df = df.copy()\n",
    "    df[column_name] = pd.to_numeric(df[column_name], errors='coerce')\n",
    "    return df\n",
    "\n",
    "df_stores = (pd.read_csv('rossman/stores.csv')\n",
    "               .rename(columns=camel_to_snake)\n",
    "               .rename(columns={'store': 'store_id'})\n",
    "               .astype(dict(store_id=str,\n",
    "                            store_type='category',\n",
    "                            assortment='category',\n",
    "                            competition_open_since_month='category',\n",
    "                            promo2='bool'))\n",
    "               .pipe(to_numeric, 'competition_distance')\n",
    "               .pipe(to_numeric, 'competition_open_since_year')\n",
    "               .pipe(to_numeric, 'promo2_since_week')\n",
    "               .pipe(to_numeric, 'promo2_since_year')\n",
    "               .drop(columns='promo_interval'))\n",
    "df_stores.head(10)"
   ]
  },
  {
   "cell_type": "code",
   "execution_count": null,
   "metadata": {},
   "outputs": [],
   "source": []
  }
 ],
 "metadata": {
  "kernelspec": {
   "display_name": "Python 3",
   "language": "python",
   "name": "python3"
  },
  "language_info": {
   "codemirror_mode": {
    "name": "ipython",
    "version": 3
   },
   "file_extension": ".py",
   "mimetype": "text/x-python",
   "name": "python",
   "nbconvert_exporter": "python",
   "pygments_lexer": "ipython3",
   "version": "3.6.4"
  }
 },
 "nbformat": 4,
 "nbformat_minor": 2
}
